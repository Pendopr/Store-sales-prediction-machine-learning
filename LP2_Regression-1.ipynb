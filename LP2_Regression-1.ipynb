{
 "cells": [
  {
   "cell_type": "markdown",
   "id": "ce31f6c8",
   "metadata": {},
   "source": [
    "# MODELLING AND FORECASTING STORE SALES OF A TIME-SERIES DATA."
   ]
  },
  {
   "cell_type": "markdown",
   "id": "94e8877d",
   "metadata": {},
   "source": [
    "## Description"
   ]
  },
  {
   "cell_type": "markdown",
   "id": "e5a04704",
   "metadata": {},
   "source": [
    "This is a time-series forecasting project.In this project we'll train a model that accurately predicts the sales of items in different stores.We'll use store sales data from large Ecuadorian-based grocery retailer."
   ]
  },
  {
   "cell_type": "markdown",
   "id": "c64adcee",
   "metadata": {},
   "source": [
    "## Hypothesis"
   ]
  },
  {
   "cell_type": "markdown",
   "id": "1e617900",
   "metadata": {},
   "source": [
    "Null hypothesis: Stores with products onpromotion make more sales than stores without onpromotion products."
   ]
  },
  {
   "cell_type": "markdown",
   "id": "2d9d0c1e",
   "metadata": {},
   "source": [
    "Alternative hypothesis: Stores with no promotion products make more sales than stores with onpromotion products."
   ]
  },
  {
   "cell_type": "markdown",
   "id": "0644bb8d",
   "metadata": {},
   "source": [
    "## Questions"
   ]
  },
  {
   "cell_type": "markdown",
   "id": "ade7aa7a",
   "metadata": {},
   "source": [
    "1. Is the train dataset complete (has all the required dates)?\n",
    "2. Which dates have the lowest and highest sales for each year?\n",
    "3. Did the earthquake impact sales?\n",
    "4. Are certain groups of stores selling more products? (Cluster, city, state, type)\n",
    "5. Are sales affected by promotions, oil prices and holidays?\n",
    "6. What analysis can we get from the date and its extractable features?\n",
    "7. What is the difference between RMSLE, RMSE, MSE (or why is the MAE greater than all of them?)\n",
    "8. What are the annual sales that each store make.\n",
    "9. How many sales are made on the 1st quarter of each year \n",
    "10. What is the trend of the sales over the years?"
   ]
  },
  {
   "cell_type": "markdown",
   "id": "c7ce2c1c",
   "metadata": {},
   "source": [
    "# Setup"
   ]
  },
  {
   "cell_type": "markdown",
   "id": "e69270ee",
   "metadata": {},
   "source": [
    "## Installations"
   ]
  },
  {
   "cell_type": "code",
   "execution_count": null,
   "id": "188dd5e2",
   "metadata": {},
   "outputs": [],
   "source": [
    "#Install Pandas Profiling Package\n",
    "#pip install pandas-profiling\n"
   ]
  },
  {
   "cell_type": "markdown",
   "id": "ad735eb2",
   "metadata": {},
   "source": [
    "## Importations"
   ]
  },
  {
   "cell_type": "code",
   "execution_count": 1,
   "id": "ec055cb1",
   "metadata": {},
   "outputs": [],
   "source": [
    "# Data handling\n",
    "import pandas as pd\n",
    "import numpy as np\n",
    "\n",
    "# Data Visualizations\n",
    "from matplotlib import pyplot as plt\n",
    "\n",
    "# Import seaborn\n",
    "import seaborn as sns\n",
    "\n",
    "# Apply the default theme\n",
    "sns.set_theme()\n",
    "\n",
    "#import sklearn libraries\n",
    "from sklearn.preprocessing import OneHotEncoder,StandardScaler\n",
    "from sklearn.impute import SimpleImputer\n",
    "from sklearn.tree import DecisionTreeRegressor\n",
    "from sklearn.metrics import mean_squared_error\n",
    "from sklearn.metrics import mean_absolute_error\n",
    "from sklearn.metrics import mean_squared_log_error\n",
    "from sklearn.model_selection import cross_val_score\n",
    "from sklearn.model_selection import GridSearchCV\n",
    "import pickle\n",
    "import os\n",
    "import subprocess  #function is used to call the 7-Zip command-line interface with the appropriate arguments.\n",
    "# EDA\n",
    "#from pandas_profiling import ProfileReport\n",
    "from pandas.plotting import scatter_matrix\n",
    "from itertools import product\n",
    "\n",
    "\n",
    "import warnings\n",
    "warnings.filterwarnings('ignore')\n"
   ]
  },
  {
   "cell_type": "markdown",
   "id": "111dc02c",
   "metadata": {},
   "source": [
    "# Data Loading"
   ]
  },
  {
   "cell_type": "markdown",
   "id": "2e9312a5",
   "metadata": {},
   "source": [
    "### Here is the section to load the datasets (train, eval, test) and the additional files"
   ]
  },
  {
   "cell_type": "code",
   "execution_count": 2,
   "id": "59a5576b",
   "metadata": {},
   "outputs": [],
   "source": [
    "#importing the datasets\n",
    "train_df=pd.read_csv(r\"C:\\Users\\Admin\\Desktop\\C_A\\store-sales-time-series-forecasting\\train.csv\",parse_dates=['date'])\n",
    "events_df=pd.read_csv(r\"C:\\Users\\Admin\\Desktop\\C_A\\store-sales-time-series-forecasting\\holidays_events.csv\",parse_dates=['date'])\n",
    "oil_df=pd.read_csv(r\"C:\\Users\\Admin\\Desktop\\C_A\\store-sales-time-series-forecasting\\oil.csv\",parse_dates=['date'])\n",
    "store_df=pd.read_csv(r\"C:\\Users\\Admin\\Desktop\\C_A\\store-sales-time-series-forecasting\\stores.csv\")\n",
    "test_df=pd.read_csv(r\"C:\\Users\\Admin\\Desktop\\C_A\\store-sales-time-series-forecasting\\test.csv\",parse_dates=['date'])"
   ]
  },
  {
   "cell_type": "markdown",
   "id": "f92d1887",
   "metadata": {},
   "source": [
    "## Training Data"
   ]
  },
  {
   "cell_type": "code",
   "execution_count": 3,
   "id": "dd80edf0",
   "metadata": {},
   "outputs": [
    {
     "data": {
      "text/html": [
       "<div>\n",
       "<style scoped>\n",
       "    .dataframe tbody tr th:only-of-type {\n",
       "        vertical-align: middle;\n",
       "    }\n",
       "\n",
       "    .dataframe tbody tr th {\n",
       "        vertical-align: top;\n",
       "    }\n",
       "\n",
       "    .dataframe thead th {\n",
       "        text-align: right;\n",
       "    }\n",
       "</style>\n",
       "<table border=\"1\" class=\"dataframe\">\n",
       "  <thead>\n",
       "    <tr style=\"text-align: right;\">\n",
       "      <th></th>\n",
       "      <th>id</th>\n",
       "      <th>date</th>\n",
       "      <th>store_nbr</th>\n",
       "      <th>family</th>\n",
       "      <th>sales</th>\n",
       "      <th>onpromotion</th>\n",
       "    </tr>\n",
       "  </thead>\n",
       "  <tbody>\n",
       "    <tr>\n",
       "      <th>0</th>\n",
       "      <td>0</td>\n",
       "      <td>2013-01-01</td>\n",
       "      <td>1</td>\n",
       "      <td>AUTOMOTIVE</td>\n",
       "      <td>0.0</td>\n",
       "      <td>0</td>\n",
       "    </tr>\n",
       "    <tr>\n",
       "      <th>1</th>\n",
       "      <td>1</td>\n",
       "      <td>2013-01-01</td>\n",
       "      <td>1</td>\n",
       "      <td>BABY CARE</td>\n",
       "      <td>0.0</td>\n",
       "      <td>0</td>\n",
       "    </tr>\n",
       "    <tr>\n",
       "      <th>2</th>\n",
       "      <td>2</td>\n",
       "      <td>2013-01-01</td>\n",
       "      <td>1</td>\n",
       "      <td>BEAUTY</td>\n",
       "      <td>0.0</td>\n",
       "      <td>0</td>\n",
       "    </tr>\n",
       "    <tr>\n",
       "      <th>3</th>\n",
       "      <td>3</td>\n",
       "      <td>2013-01-01</td>\n",
       "      <td>1</td>\n",
       "      <td>BEVERAGES</td>\n",
       "      <td>0.0</td>\n",
       "      <td>0</td>\n",
       "    </tr>\n",
       "    <tr>\n",
       "      <th>4</th>\n",
       "      <td>4</td>\n",
       "      <td>2013-01-01</td>\n",
       "      <td>1</td>\n",
       "      <td>BOOKS</td>\n",
       "      <td>0.0</td>\n",
       "      <td>0</td>\n",
       "    </tr>\n",
       "  </tbody>\n",
       "</table>\n",
       "</div>"
      ],
      "text/plain": [
       "   id       date  store_nbr      family  sales  onpromotion\n",
       "0   0 2013-01-01          1  AUTOMOTIVE    0.0            0\n",
       "1   1 2013-01-01          1   BABY CARE    0.0            0\n",
       "2   2 2013-01-01          1      BEAUTY    0.0            0\n",
       "3   3 2013-01-01          1   BEVERAGES    0.0            0\n",
       "4   4 2013-01-01          1       BOOKS    0.0            0"
      ]
     },
     "execution_count": 3,
     "metadata": {},
     "output_type": "execute_result"
    }
   ],
   "source": [
    "train_df.head()"
   ]
  },
  {
   "cell_type": "code",
   "execution_count": 4,
   "id": "5578633a",
   "metadata": {
    "scrolled": true
   },
   "outputs": [
    {
     "name": "stdout",
     "output_type": "stream",
     "text": [
      "<class 'pandas.core.frame.DataFrame'>\n",
      "RangeIndex: 3000888 entries, 0 to 3000887\n",
      "Data columns (total 6 columns):\n",
      " #   Column       Dtype         \n",
      "---  ------       -----         \n",
      " 0   id           int64         \n",
      " 1   date         datetime64[ns]\n",
      " 2   store_nbr    int64         \n",
      " 3   family       object        \n",
      " 4   sales        float64       \n",
      " 5   onpromotion  int64         \n",
      "dtypes: datetime64[ns](1), float64(1), int64(3), object(1)\n",
      "memory usage: 137.4+ MB\n"
     ]
    }
   ],
   "source": [
    "train_df.info()"
   ]
  },
  {
   "cell_type": "code",
   "execution_count": 5,
   "id": "8c768d19",
   "metadata": {},
   "outputs": [
    {
     "data": {
      "text/plain": [
       "(3000888, 6)"
      ]
     },
     "execution_count": 5,
     "metadata": {},
     "output_type": "execute_result"
    }
   ],
   "source": [
    "train_df.shape"
   ]
  },
  {
   "cell_type": "code",
   "execution_count": 6,
   "id": "596592fd",
   "metadata": {},
   "outputs": [
    {
     "data": {
      "text/plain": [
       "id             0\n",
       "date           0\n",
       "store_nbr      0\n",
       "family         0\n",
       "sales          0\n",
       "onpromotion    0\n",
       "dtype: int64"
      ]
     },
     "execution_count": 6,
     "metadata": {},
     "output_type": "execute_result"
    }
   ],
   "source": [
    "train_df.isnull().sum()"
   ]
  },
  {
   "cell_type": "markdown",
   "id": "8d40c2fa",
   "metadata": {},
   "source": [
    "## Events Data"
   ]
  },
  {
   "cell_type": "code",
   "execution_count": 7,
   "id": "8cc6a553",
   "metadata": {},
   "outputs": [
    {
     "data": {
      "text/html": [
       "<div>\n",
       "<style scoped>\n",
       "    .dataframe tbody tr th:only-of-type {\n",
       "        vertical-align: middle;\n",
       "    }\n",
       "\n",
       "    .dataframe tbody tr th {\n",
       "        vertical-align: top;\n",
       "    }\n",
       "\n",
       "    .dataframe thead th {\n",
       "        text-align: right;\n",
       "    }\n",
       "</style>\n",
       "<table border=\"1\" class=\"dataframe\">\n",
       "  <thead>\n",
       "    <tr style=\"text-align: right;\">\n",
       "      <th></th>\n",
       "      <th>date</th>\n",
       "      <th>type</th>\n",
       "      <th>locale</th>\n",
       "      <th>locale_name</th>\n",
       "      <th>description</th>\n",
       "      <th>transferred</th>\n",
       "    </tr>\n",
       "  </thead>\n",
       "  <tbody>\n",
       "    <tr>\n",
       "      <th>0</th>\n",
       "      <td>2012-03-02</td>\n",
       "      <td>Holiday</td>\n",
       "      <td>Local</td>\n",
       "      <td>Manta</td>\n",
       "      <td>Fundacion de Manta</td>\n",
       "      <td>False</td>\n",
       "    </tr>\n",
       "    <tr>\n",
       "      <th>1</th>\n",
       "      <td>2012-04-01</td>\n",
       "      <td>Holiday</td>\n",
       "      <td>Regional</td>\n",
       "      <td>Cotopaxi</td>\n",
       "      <td>Provincializacion de Cotopaxi</td>\n",
       "      <td>False</td>\n",
       "    </tr>\n",
       "    <tr>\n",
       "      <th>2</th>\n",
       "      <td>2012-04-12</td>\n",
       "      <td>Holiday</td>\n",
       "      <td>Local</td>\n",
       "      <td>Cuenca</td>\n",
       "      <td>Fundacion de Cuenca</td>\n",
       "      <td>False</td>\n",
       "    </tr>\n",
       "    <tr>\n",
       "      <th>3</th>\n",
       "      <td>2012-04-14</td>\n",
       "      <td>Holiday</td>\n",
       "      <td>Local</td>\n",
       "      <td>Libertad</td>\n",
       "      <td>Cantonizacion de Libertad</td>\n",
       "      <td>False</td>\n",
       "    </tr>\n",
       "    <tr>\n",
       "      <th>4</th>\n",
       "      <td>2012-04-21</td>\n",
       "      <td>Holiday</td>\n",
       "      <td>Local</td>\n",
       "      <td>Riobamba</td>\n",
       "      <td>Cantonizacion de Riobamba</td>\n",
       "      <td>False</td>\n",
       "    </tr>\n",
       "  </tbody>\n",
       "</table>\n",
       "</div>"
      ],
      "text/plain": [
       "        date     type    locale locale_name                    description  \\\n",
       "0 2012-03-02  Holiday     Local       Manta             Fundacion de Manta   \n",
       "1 2012-04-01  Holiday  Regional    Cotopaxi  Provincializacion de Cotopaxi   \n",
       "2 2012-04-12  Holiday     Local      Cuenca            Fundacion de Cuenca   \n",
       "3 2012-04-14  Holiday     Local    Libertad      Cantonizacion de Libertad   \n",
       "4 2012-04-21  Holiday     Local    Riobamba      Cantonizacion de Riobamba   \n",
       "\n",
       "   transferred  \n",
       "0        False  \n",
       "1        False  \n",
       "2        False  \n",
       "3        False  \n",
       "4        False  "
      ]
     },
     "execution_count": 7,
     "metadata": {},
     "output_type": "execute_result"
    }
   ],
   "source": [
    "events_df.head()"
   ]
  },
  {
   "cell_type": "code",
   "execution_count": 8,
   "id": "c2a0787a",
   "metadata": {
    "scrolled": true
   },
   "outputs": [
    {
     "name": "stdout",
     "output_type": "stream",
     "text": [
      "<class 'pandas.core.frame.DataFrame'>\n",
      "RangeIndex: 350 entries, 0 to 349\n",
      "Data columns (total 6 columns):\n",
      " #   Column       Non-Null Count  Dtype         \n",
      "---  ------       --------------  -----         \n",
      " 0   date         350 non-null    datetime64[ns]\n",
      " 1   type         350 non-null    object        \n",
      " 2   locale       350 non-null    object        \n",
      " 3   locale_name  350 non-null    object        \n",
      " 4   description  350 non-null    object        \n",
      " 5   transferred  350 non-null    bool          \n",
      "dtypes: bool(1), datetime64[ns](1), object(4)\n",
      "memory usage: 14.1+ KB\n"
     ]
    }
   ],
   "source": [
    "events_df.info()"
   ]
  },
  {
   "cell_type": "code",
   "execution_count": 9,
   "id": "9ad02e05",
   "metadata": {},
   "outputs": [
    {
     "data": {
      "text/plain": [
       "(350, 6)"
      ]
     },
     "execution_count": 9,
     "metadata": {},
     "output_type": "execute_result"
    }
   ],
   "source": [
    "events_df.shape"
   ]
  },
  {
   "cell_type": "code",
   "execution_count": 10,
   "id": "c18ed0da",
   "metadata": {},
   "outputs": [
    {
     "data": {
      "text/plain": [
       "date           0\n",
       "type           0\n",
       "locale         0\n",
       "locale_name    0\n",
       "description    0\n",
       "transferred    0\n",
       "dtype: int64"
      ]
     },
     "execution_count": 10,
     "metadata": {},
     "output_type": "execute_result"
    }
   ],
   "source": [
    "events_df.isnull().sum()"
   ]
  },
  {
   "cell_type": "markdown",
   "id": "e4f86ba8",
   "metadata": {},
   "source": [
    "## Oil Data"
   ]
  },
  {
   "cell_type": "code",
   "execution_count": 11,
   "id": "4cfaf8ed",
   "metadata": {
    "scrolled": true
   },
   "outputs": [
    {
     "data": {
      "text/html": [
       "<div>\n",
       "<style scoped>\n",
       "    .dataframe tbody tr th:only-of-type {\n",
       "        vertical-align: middle;\n",
       "    }\n",
       "\n",
       "    .dataframe tbody tr th {\n",
       "        vertical-align: top;\n",
       "    }\n",
       "\n",
       "    .dataframe thead th {\n",
       "        text-align: right;\n",
       "    }\n",
       "</style>\n",
       "<table border=\"1\" class=\"dataframe\">\n",
       "  <thead>\n",
       "    <tr style=\"text-align: right;\">\n",
       "      <th></th>\n",
       "      <th>date</th>\n",
       "      <th>dcoilwtico</th>\n",
       "    </tr>\n",
       "  </thead>\n",
       "  <tbody>\n",
       "    <tr>\n",
       "      <th>0</th>\n",
       "      <td>2013-01-01</td>\n",
       "      <td>NaN</td>\n",
       "    </tr>\n",
       "    <tr>\n",
       "      <th>1</th>\n",
       "      <td>2013-01-02</td>\n",
       "      <td>93.14</td>\n",
       "    </tr>\n",
       "    <tr>\n",
       "      <th>2</th>\n",
       "      <td>2013-01-03</td>\n",
       "      <td>92.97</td>\n",
       "    </tr>\n",
       "    <tr>\n",
       "      <th>3</th>\n",
       "      <td>2013-01-04</td>\n",
       "      <td>93.12</td>\n",
       "    </tr>\n",
       "    <tr>\n",
       "      <th>4</th>\n",
       "      <td>2013-01-07</td>\n",
       "      <td>93.20</td>\n",
       "    </tr>\n",
       "  </tbody>\n",
       "</table>\n",
       "</div>"
      ],
      "text/plain": [
       "        date  dcoilwtico\n",
       "0 2013-01-01         NaN\n",
       "1 2013-01-02       93.14\n",
       "2 2013-01-03       92.97\n",
       "3 2013-01-04       93.12\n",
       "4 2013-01-07       93.20"
      ]
     },
     "execution_count": 11,
     "metadata": {},
     "output_type": "execute_result"
    }
   ],
   "source": [
    "oil_df.head()"
   ]
  },
  {
   "cell_type": "code",
   "execution_count": 12,
   "id": "e7895b49",
   "metadata": {},
   "outputs": [
    {
     "name": "stdout",
     "output_type": "stream",
     "text": [
      "<class 'pandas.core.frame.DataFrame'>\n",
      "RangeIndex: 1218 entries, 0 to 1217\n",
      "Data columns (total 2 columns):\n",
      " #   Column      Non-Null Count  Dtype         \n",
      "---  ------      --------------  -----         \n",
      " 0   date        1218 non-null   datetime64[ns]\n",
      " 1   dcoilwtico  1175 non-null   float64       \n",
      "dtypes: datetime64[ns](1), float64(1)\n",
      "memory usage: 19.2 KB\n"
     ]
    }
   ],
   "source": [
    "oil_df.info()"
   ]
  },
  {
   "cell_type": "code",
   "execution_count": 13,
   "id": "30a1734c",
   "metadata": {},
   "outputs": [
    {
     "data": {
      "text/plain": [
       "min   2013-01-01\n",
       "max   2017-08-31\n",
       "Name: date, dtype: datetime64[ns]"
      ]
     },
     "execution_count": 13,
     "metadata": {},
     "output_type": "execute_result"
    }
   ],
   "source": [
    "oil_df['date'].agg(['min', 'max'])"
   ]
  },
  {
   "cell_type": "code",
   "execution_count": 14,
   "id": "f17a988c",
   "metadata": {},
   "outputs": [],
   "source": [
    "#Getting the missing dates \n",
    "oil_missing_dates=pd.date_range(start='2013-01-01', end='2017-08-31').difference(oil_df.date.unique())"
   ]
  },
  {
   "cell_type": "code",
   "execution_count": 15,
   "id": "a3576bcc",
   "metadata": {},
   "outputs": [
    {
     "data": {
      "text/plain": [
       "DatetimeIndex(['2013-01-05', '2013-01-06', '2013-01-12', '2013-01-13',\n",
       "               '2013-01-19', '2013-01-20', '2013-01-26', '2013-01-27',\n",
       "               '2013-02-02', '2013-02-03',\n",
       "               ...\n",
       "               '2017-07-29', '2017-07-30', '2017-08-05', '2017-08-06',\n",
       "               '2017-08-12', '2017-08-13', '2017-08-19', '2017-08-20',\n",
       "               '2017-08-26', '2017-08-27'],\n",
       "              dtype='datetime64[ns]', length=486, freq=None)"
      ]
     },
     "execution_count": 15,
     "metadata": {},
     "output_type": "execute_result"
    }
   ],
   "source": [
    "oil_missing_dates"
   ]
  },
  {
   "cell_type": "code",
   "execution_count": 16,
   "id": "918fd6d9",
   "metadata": {},
   "outputs": [],
   "source": [
    "missing_data = pd.DataFrame(oil_missing_dates, columns=['date'])"
   ]
  },
  {
   "cell_type": "code",
   "execution_count": 17,
   "id": "a8657e86",
   "metadata": {
    "scrolled": true
   },
   "outputs": [
    {
     "data": {
      "text/html": [
       "<div>\n",
       "<style scoped>\n",
       "    .dataframe tbody tr th:only-of-type {\n",
       "        vertical-align: middle;\n",
       "    }\n",
       "\n",
       "    .dataframe tbody tr th {\n",
       "        vertical-align: top;\n",
       "    }\n",
       "\n",
       "    .dataframe thead th {\n",
       "        text-align: right;\n",
       "    }\n",
       "</style>\n",
       "<table border=\"1\" class=\"dataframe\">\n",
       "  <thead>\n",
       "    <tr style=\"text-align: right;\">\n",
       "      <th></th>\n",
       "      <th>date</th>\n",
       "      <th>dcoilwtico</th>\n",
       "    </tr>\n",
       "  </thead>\n",
       "  <tbody>\n",
       "    <tr>\n",
       "      <th>0</th>\n",
       "      <td>2013-01-01</td>\n",
       "      <td>NaN</td>\n",
       "    </tr>\n",
       "    <tr>\n",
       "      <th>1</th>\n",
       "      <td>2013-01-02</td>\n",
       "      <td>93.14</td>\n",
       "    </tr>\n",
       "    <tr>\n",
       "      <th>2</th>\n",
       "      <td>2013-01-03</td>\n",
       "      <td>92.97</td>\n",
       "    </tr>\n",
       "    <tr>\n",
       "      <th>3</th>\n",
       "      <td>2013-01-04</td>\n",
       "      <td>93.12</td>\n",
       "    </tr>\n",
       "    <tr>\n",
       "      <th>4</th>\n",
       "      <td>2013-01-07</td>\n",
       "      <td>93.20</td>\n",
       "    </tr>\n",
       "  </tbody>\n",
       "</table>\n",
       "</div>"
      ],
      "text/plain": [
       "        date  dcoilwtico\n",
       "0 2013-01-01         NaN\n",
       "1 2013-01-02       93.14\n",
       "2 2013-01-03       92.97\n",
       "3 2013-01-04       93.12\n",
       "4 2013-01-07       93.20"
      ]
     },
     "execution_count": 17,
     "metadata": {},
     "output_type": "execute_result"
    }
   ],
   "source": [
    "#combining the original train data with the missing date dataframe\n",
    "oil_data=pd.concat([oil_df,missing_data],ignore_index= True)\n",
    "oil_data.head()"
   ]
  },
  {
   "cell_type": "code",
   "execution_count": 18,
   "id": "9eea9f6c",
   "metadata": {},
   "outputs": [],
   "source": [
    "oil_data['dcoilwtico'].interpolate(method ='linear', limit_direction ='both',inplace=True)"
   ]
  },
  {
   "cell_type": "code",
   "execution_count": 19,
   "id": "f624f431",
   "metadata": {},
   "outputs": [
    {
     "data": {
      "text/plain": [
       "date          0\n",
       "dcoilwtico    0\n",
       "dtype: int64"
      ]
     },
     "execution_count": 19,
     "metadata": {},
     "output_type": "execute_result"
    }
   ],
   "source": [
    "oil_data.isnull().sum()"
   ]
  },
  {
   "cell_type": "code",
   "execution_count": 20,
   "id": "d9868ab9",
   "metadata": {
    "scrolled": true
   },
   "outputs": [
    {
     "data": {
      "text/plain": [
       "(1704, 2)"
      ]
     },
     "execution_count": 20,
     "metadata": {},
     "output_type": "execute_result"
    }
   ],
   "source": [
    "oil_data.shape"
   ]
  },
  {
   "cell_type": "markdown",
   "id": "68585205",
   "metadata": {},
   "source": [
    "## Store Data"
   ]
  },
  {
   "cell_type": "code",
   "execution_count": 21,
   "id": "3d0355fc",
   "metadata": {
    "scrolled": true
   },
   "outputs": [
    {
     "data": {
      "text/html": [
       "<div>\n",
       "<style scoped>\n",
       "    .dataframe tbody tr th:only-of-type {\n",
       "        vertical-align: middle;\n",
       "    }\n",
       "\n",
       "    .dataframe tbody tr th {\n",
       "        vertical-align: top;\n",
       "    }\n",
       "\n",
       "    .dataframe thead th {\n",
       "        text-align: right;\n",
       "    }\n",
       "</style>\n",
       "<table border=\"1\" class=\"dataframe\">\n",
       "  <thead>\n",
       "    <tr style=\"text-align: right;\">\n",
       "      <th></th>\n",
       "      <th>store_nbr</th>\n",
       "      <th>city</th>\n",
       "      <th>state</th>\n",
       "      <th>type</th>\n",
       "      <th>cluster</th>\n",
       "    </tr>\n",
       "  </thead>\n",
       "  <tbody>\n",
       "    <tr>\n",
       "      <th>0</th>\n",
       "      <td>1</td>\n",
       "      <td>Quito</td>\n",
       "      <td>Pichincha</td>\n",
       "      <td>D</td>\n",
       "      <td>13</td>\n",
       "    </tr>\n",
       "    <tr>\n",
       "      <th>1</th>\n",
       "      <td>2</td>\n",
       "      <td>Quito</td>\n",
       "      <td>Pichincha</td>\n",
       "      <td>D</td>\n",
       "      <td>13</td>\n",
       "    </tr>\n",
       "    <tr>\n",
       "      <th>2</th>\n",
       "      <td>3</td>\n",
       "      <td>Quito</td>\n",
       "      <td>Pichincha</td>\n",
       "      <td>D</td>\n",
       "      <td>8</td>\n",
       "    </tr>\n",
       "    <tr>\n",
       "      <th>3</th>\n",
       "      <td>4</td>\n",
       "      <td>Quito</td>\n",
       "      <td>Pichincha</td>\n",
       "      <td>D</td>\n",
       "      <td>9</td>\n",
       "    </tr>\n",
       "    <tr>\n",
       "      <th>4</th>\n",
       "      <td>5</td>\n",
       "      <td>Santo Domingo</td>\n",
       "      <td>Santo Domingo de los Tsachilas</td>\n",
       "      <td>D</td>\n",
       "      <td>4</td>\n",
       "    </tr>\n",
       "  </tbody>\n",
       "</table>\n",
       "</div>"
      ],
      "text/plain": [
       "   store_nbr           city                           state type  cluster\n",
       "0          1          Quito                       Pichincha    D       13\n",
       "1          2          Quito                       Pichincha    D       13\n",
       "2          3          Quito                       Pichincha    D        8\n",
       "3          4          Quito                       Pichincha    D        9\n",
       "4          5  Santo Domingo  Santo Domingo de los Tsachilas    D        4"
      ]
     },
     "execution_count": 21,
     "metadata": {},
     "output_type": "execute_result"
    }
   ],
   "source": [
    "store_df.head()"
   ]
  },
  {
   "cell_type": "code",
   "execution_count": 22,
   "id": "c8f18616",
   "metadata": {
    "scrolled": true
   },
   "outputs": [
    {
     "name": "stdout",
     "output_type": "stream",
     "text": [
      "<class 'pandas.core.frame.DataFrame'>\n",
      "RangeIndex: 54 entries, 0 to 53\n",
      "Data columns (total 5 columns):\n",
      " #   Column     Non-Null Count  Dtype \n",
      "---  ------     --------------  ----- \n",
      " 0   store_nbr  54 non-null     int64 \n",
      " 1   city       54 non-null     object\n",
      " 2   state      54 non-null     object\n",
      " 3   type       54 non-null     object\n",
      " 4   cluster    54 non-null     int64 \n",
      "dtypes: int64(2), object(3)\n",
      "memory usage: 2.2+ KB\n"
     ]
    }
   ],
   "source": [
    "store_df.info()"
   ]
  },
  {
   "cell_type": "code",
   "execution_count": 23,
   "id": "619662da",
   "metadata": {},
   "outputs": [
    {
     "data": {
      "text/plain": [
       "store_nbr    0\n",
       "city         0\n",
       "state        0\n",
       "type         0\n",
       "cluster      0\n",
       "dtype: int64"
      ]
     },
     "execution_count": 23,
     "metadata": {},
     "output_type": "execute_result"
    }
   ],
   "source": [
    "store_df.isnull().sum()"
   ]
  },
  {
   "cell_type": "code",
   "execution_count": 24,
   "id": "218ec463",
   "metadata": {},
   "outputs": [
    {
     "data": {
      "text/plain": [
       "(54, 5)"
      ]
     },
     "execution_count": 24,
     "metadata": {},
     "output_type": "execute_result"
    }
   ],
   "source": [
    "store_df.shape"
   ]
  },
  {
   "cell_type": "markdown",
   "id": "8e524e23",
   "metadata": {},
   "source": [
    "## Test data"
   ]
  },
  {
   "cell_type": "code",
   "execution_count": 25,
   "id": "4d4cc238",
   "metadata": {},
   "outputs": [
    {
     "data": {
      "text/html": [
       "<div>\n",
       "<style scoped>\n",
       "    .dataframe tbody tr th:only-of-type {\n",
       "        vertical-align: middle;\n",
       "    }\n",
       "\n",
       "    .dataframe tbody tr th {\n",
       "        vertical-align: top;\n",
       "    }\n",
       "\n",
       "    .dataframe thead th {\n",
       "        text-align: right;\n",
       "    }\n",
       "</style>\n",
       "<table border=\"1\" class=\"dataframe\">\n",
       "  <thead>\n",
       "    <tr style=\"text-align: right;\">\n",
       "      <th></th>\n",
       "      <th>id</th>\n",
       "      <th>date</th>\n",
       "      <th>store_nbr</th>\n",
       "      <th>family</th>\n",
       "      <th>onpromotion</th>\n",
       "    </tr>\n",
       "  </thead>\n",
       "  <tbody>\n",
       "    <tr>\n",
       "      <th>0</th>\n",
       "      <td>3000888</td>\n",
       "      <td>2017-08-16</td>\n",
       "      <td>1</td>\n",
       "      <td>AUTOMOTIVE</td>\n",
       "      <td>0</td>\n",
       "    </tr>\n",
       "    <tr>\n",
       "      <th>1</th>\n",
       "      <td>3000889</td>\n",
       "      <td>2017-08-16</td>\n",
       "      <td>1</td>\n",
       "      <td>BABY CARE</td>\n",
       "      <td>0</td>\n",
       "    </tr>\n",
       "    <tr>\n",
       "      <th>2</th>\n",
       "      <td>3000890</td>\n",
       "      <td>2017-08-16</td>\n",
       "      <td>1</td>\n",
       "      <td>BEAUTY</td>\n",
       "      <td>2</td>\n",
       "    </tr>\n",
       "    <tr>\n",
       "      <th>3</th>\n",
       "      <td>3000891</td>\n",
       "      <td>2017-08-16</td>\n",
       "      <td>1</td>\n",
       "      <td>BEVERAGES</td>\n",
       "      <td>20</td>\n",
       "    </tr>\n",
       "    <tr>\n",
       "      <th>4</th>\n",
       "      <td>3000892</td>\n",
       "      <td>2017-08-16</td>\n",
       "      <td>1</td>\n",
       "      <td>BOOKS</td>\n",
       "      <td>0</td>\n",
       "    </tr>\n",
       "  </tbody>\n",
       "</table>\n",
       "</div>"
      ],
      "text/plain": [
       "        id       date  store_nbr      family  onpromotion\n",
       "0  3000888 2017-08-16          1  AUTOMOTIVE            0\n",
       "1  3000889 2017-08-16          1   BABY CARE            0\n",
       "2  3000890 2017-08-16          1      BEAUTY            2\n",
       "3  3000891 2017-08-16          1   BEVERAGES           20\n",
       "4  3000892 2017-08-16          1       BOOKS            0"
      ]
     },
     "execution_count": 25,
     "metadata": {},
     "output_type": "execute_result"
    }
   ],
   "source": [
    "test_df.head()"
   ]
  },
  {
   "cell_type": "code",
   "execution_count": 26,
   "id": "4b8a3f79",
   "metadata": {},
   "outputs": [
    {
     "name": "stdout",
     "output_type": "stream",
     "text": [
      "<class 'pandas.core.frame.DataFrame'>\n",
      "RangeIndex: 28512 entries, 0 to 28511\n",
      "Data columns (total 5 columns):\n",
      " #   Column       Non-Null Count  Dtype         \n",
      "---  ------       --------------  -----         \n",
      " 0   id           28512 non-null  int64         \n",
      " 1   date         28512 non-null  datetime64[ns]\n",
      " 2   store_nbr    28512 non-null  int64         \n",
      " 3   family       28512 non-null  object        \n",
      " 4   onpromotion  28512 non-null  int64         \n",
      "dtypes: datetime64[ns](1), int64(3), object(1)\n",
      "memory usage: 1.1+ MB\n"
     ]
    }
   ],
   "source": [
    "test_df.info()"
   ]
  },
  {
   "cell_type": "code",
   "execution_count": 27,
   "id": "801fbce9",
   "metadata": {},
   "outputs": [
    {
     "data": {
      "text/plain": [
       "id             0\n",
       "date           0\n",
       "store_nbr      0\n",
       "family         0\n",
       "onpromotion    0\n",
       "dtype: int64"
      ]
     },
     "execution_count": 27,
     "metadata": {},
     "output_type": "execute_result"
    }
   ],
   "source": [
    "test_df.isnull().sum()"
   ]
  },
  {
   "cell_type": "code",
   "execution_count": 28,
   "id": "4bd75a2e",
   "metadata": {},
   "outputs": [
    {
     "data": {
      "text/plain": [
       "(28512, 5)"
      ]
     },
     "execution_count": 28,
     "metadata": {},
     "output_type": "execute_result"
    }
   ],
   "source": [
    "test_df.shape"
   ]
  },
  {
   "cell_type": "markdown",
   "id": "35d3025c",
   "metadata": {},
   "source": [
    "## Exploratory Data Analysis: EDA"
   ]
  },
  {
   "cell_type": "markdown",
   "id": "ae1f6672",
   "metadata": {},
   "source": [
    "## 1. Is the train dataset complete (has all the required dates)?\n"
   ]
  },
  {
   "cell_type": "code",
   "execution_count": 29,
   "id": "1f382d98",
   "metadata": {
    "scrolled": true
   },
   "outputs": [
    {
     "data": {
      "text/plain": [
       "min   2013-01-01\n",
       "max   2017-08-15\n",
       "Name: date, dtype: datetime64[ns]"
      ]
     },
     "execution_count": 29,
     "metadata": {},
     "output_type": "execute_result"
    }
   ],
   "source": [
    "train_df['date'].agg(['min', 'max'])"
   ]
  },
  {
   "cell_type": "code",
   "execution_count": 30,
   "id": "6ac00c24",
   "metadata": {},
   "outputs": [],
   "source": [
    "#Getting the missing dates \n",
    "train_missing_dates=pd.date_range(start='2013-01-01', end='2017-08-15').difference(train_df.date.unique())"
   ]
  },
  {
   "cell_type": "code",
   "execution_count": 31,
   "id": "9cd3ee9b",
   "metadata": {},
   "outputs": [
    {
     "data": {
      "text/plain": [
       "DatetimeIndex(['2013-12-25', '2014-12-25', '2015-12-25', '2016-12-25'], dtype='datetime64[ns]', freq=None)"
      ]
     },
     "execution_count": 31,
     "metadata": {},
     "output_type": "execute_result"
    }
   ],
   "source": [
    "train_missing_dates"
   ]
  },
  {
   "cell_type": "markdown",
   "id": "aae7b688",
   "metadata": {},
   "source": [
    "### filling the missing dates"
   ]
  },
  {
   "cell_type": "code",
   "execution_count": 32,
   "id": "a7d80652",
   "metadata": {},
   "outputs": [],
   "source": [
    "added_dates=list(product(train_missing_dates,train_df.store_nbr.unique(),train_df.family.unique()))"
   ]
  },
  {
   "cell_type": "code",
   "execution_count": 33,
   "id": "1c3ef801",
   "metadata": {},
   "outputs": [],
   "source": [
    "train_missing_data = pd.DataFrame(added_dates, columns=['date','store_nbr','family'])"
   ]
  },
  {
   "cell_type": "code",
   "execution_count": 34,
   "id": "b4824773",
   "metadata": {
    "scrolled": true
   },
   "outputs": [
    {
     "data": {
      "text/html": [
       "<div>\n",
       "<style scoped>\n",
       "    .dataframe tbody tr th:only-of-type {\n",
       "        vertical-align: middle;\n",
       "    }\n",
       "\n",
       "    .dataframe tbody tr th {\n",
       "        vertical-align: top;\n",
       "    }\n",
       "\n",
       "    .dataframe thead th {\n",
       "        text-align: right;\n",
       "    }\n",
       "</style>\n",
       "<table border=\"1\" class=\"dataframe\">\n",
       "  <thead>\n",
       "    <tr style=\"text-align: right;\">\n",
       "      <th></th>\n",
       "      <th>date</th>\n",
       "      <th>store_nbr</th>\n",
       "      <th>family</th>\n",
       "    </tr>\n",
       "  </thead>\n",
       "  <tbody>\n",
       "    <tr>\n",
       "      <th>0</th>\n",
       "      <td>2013-12-25</td>\n",
       "      <td>1</td>\n",
       "      <td>AUTOMOTIVE</td>\n",
       "    </tr>\n",
       "    <tr>\n",
       "      <th>1</th>\n",
       "      <td>2013-12-25</td>\n",
       "      <td>1</td>\n",
       "      <td>BABY CARE</td>\n",
       "    </tr>\n",
       "    <tr>\n",
       "      <th>2</th>\n",
       "      <td>2013-12-25</td>\n",
       "      <td>1</td>\n",
       "      <td>BEAUTY</td>\n",
       "    </tr>\n",
       "    <tr>\n",
       "      <th>3</th>\n",
       "      <td>2013-12-25</td>\n",
       "      <td>1</td>\n",
       "      <td>BEVERAGES</td>\n",
       "    </tr>\n",
       "    <tr>\n",
       "      <th>4</th>\n",
       "      <td>2013-12-25</td>\n",
       "      <td>1</td>\n",
       "      <td>BOOKS</td>\n",
       "    </tr>\n",
       "  </tbody>\n",
       "</table>\n",
       "</div>"
      ],
      "text/plain": [
       "        date  store_nbr      family\n",
       "0 2013-12-25          1  AUTOMOTIVE\n",
       "1 2013-12-25          1   BABY CARE\n",
       "2 2013-12-25          1      BEAUTY\n",
       "3 2013-12-25          1   BEVERAGES\n",
       "4 2013-12-25          1       BOOKS"
      ]
     },
     "execution_count": 34,
     "metadata": {},
     "output_type": "execute_result"
    }
   ],
   "source": [
    "train_missing_data.head()"
   ]
  },
  {
   "cell_type": "code",
   "execution_count": 35,
   "id": "50b28677",
   "metadata": {},
   "outputs": [
    {
     "data": {
      "text/html": [
       "<div>\n",
       "<style scoped>\n",
       "    .dataframe tbody tr th:only-of-type {\n",
       "        vertical-align: middle;\n",
       "    }\n",
       "\n",
       "    .dataframe tbody tr th {\n",
       "        vertical-align: top;\n",
       "    }\n",
       "\n",
       "    .dataframe thead th {\n",
       "        text-align: right;\n",
       "    }\n",
       "</style>\n",
       "<table border=\"1\" class=\"dataframe\">\n",
       "  <thead>\n",
       "    <tr style=\"text-align: right;\">\n",
       "      <th></th>\n",
       "      <th>id</th>\n",
       "      <th>date</th>\n",
       "      <th>store_nbr</th>\n",
       "      <th>family</th>\n",
       "      <th>sales</th>\n",
       "      <th>onpromotion</th>\n",
       "    </tr>\n",
       "  </thead>\n",
       "  <tbody>\n",
       "    <tr>\n",
       "      <th>0</th>\n",
       "      <td>0.0</td>\n",
       "      <td>2013-01-01</td>\n",
       "      <td>1</td>\n",
       "      <td>AUTOMOTIVE</td>\n",
       "      <td>0.0</td>\n",
       "      <td>0.0</td>\n",
       "    </tr>\n",
       "    <tr>\n",
       "      <th>1</th>\n",
       "      <td>1.0</td>\n",
       "      <td>2013-01-01</td>\n",
       "      <td>1</td>\n",
       "      <td>BABY CARE</td>\n",
       "      <td>0.0</td>\n",
       "      <td>0.0</td>\n",
       "    </tr>\n",
       "    <tr>\n",
       "      <th>2</th>\n",
       "      <td>2.0</td>\n",
       "      <td>2013-01-01</td>\n",
       "      <td>1</td>\n",
       "      <td>BEAUTY</td>\n",
       "      <td>0.0</td>\n",
       "      <td>0.0</td>\n",
       "    </tr>\n",
       "    <tr>\n",
       "      <th>3</th>\n",
       "      <td>3.0</td>\n",
       "      <td>2013-01-01</td>\n",
       "      <td>1</td>\n",
       "      <td>BEVERAGES</td>\n",
       "      <td>0.0</td>\n",
       "      <td>0.0</td>\n",
       "    </tr>\n",
       "    <tr>\n",
       "      <th>4</th>\n",
       "      <td>4.0</td>\n",
       "      <td>2013-01-01</td>\n",
       "      <td>1</td>\n",
       "      <td>BOOKS</td>\n",
       "      <td>0.0</td>\n",
       "      <td>0.0</td>\n",
       "    </tr>\n",
       "  </tbody>\n",
       "</table>\n",
       "</div>"
      ],
      "text/plain": [
       "    id       date  store_nbr      family  sales  onpromotion\n",
       "0  0.0 2013-01-01          1  AUTOMOTIVE    0.0          0.0\n",
       "1  1.0 2013-01-01          1   BABY CARE    0.0          0.0\n",
       "2  2.0 2013-01-01          1      BEAUTY    0.0          0.0\n",
       "3  3.0 2013-01-01          1   BEVERAGES    0.0          0.0\n",
       "4  4.0 2013-01-01          1       BOOKS    0.0          0.0"
      ]
     },
     "execution_count": 35,
     "metadata": {},
     "output_type": "execute_result"
    }
   ],
   "source": [
    "#combining the original train data with the missing date dataframe\n",
    "train_data=pd.concat([train_df,train_missing_data],ignore_index= True)\n",
    "train_data.head()"
   ]
  },
  {
   "cell_type": "code",
   "execution_count": 36,
   "id": "b9a79e52",
   "metadata": {},
   "outputs": [
    {
     "data": {
      "text/plain": [
       "0"
      ]
     },
     "execution_count": 36,
     "metadata": {},
     "output_type": "execute_result"
    }
   ],
   "source": [
    "train_data.duplicated().sum()"
   ]
  },
  {
   "cell_type": "code",
   "execution_count": 37,
   "id": "f393fe02",
   "metadata": {},
   "outputs": [
    {
     "data": {
      "text/plain": [
       "id             7128\n",
       "date              0\n",
       "store_nbr         0\n",
       "family            0\n",
       "sales          7128\n",
       "onpromotion    7128\n",
       "dtype: int64"
      ]
     },
     "execution_count": 37,
     "metadata": {},
     "output_type": "execute_result"
    }
   ],
   "source": [
    "train_data.isna().sum()"
   ]
  },
  {
   "cell_type": "code",
   "execution_count": 38,
   "id": "8404aca2",
   "metadata": {},
   "outputs": [
    {
     "data": {
      "text/plain": [
       "(3008016, 6)"
      ]
     },
     "execution_count": 38,
     "metadata": {},
     "output_type": "execute_result"
    }
   ],
   "source": [
    "train_data.shape"
   ]
  },
  {
   "cell_type": "markdown",
   "id": "1240644b",
   "metadata": {},
   "source": [
    "## merging the different csv files into one dataframe"
   ]
  },
  {
   "cell_type": "code",
   "execution_count": 39,
   "id": "e119fa6c",
   "metadata": {
    "scrolled": true
   },
   "outputs": [
    {
     "data": {
      "text/html": [
       "<div>\n",
       "<style scoped>\n",
       "    .dataframe tbody tr th:only-of-type {\n",
       "        vertical-align: middle;\n",
       "    }\n",
       "\n",
       "    .dataframe tbody tr th {\n",
       "        vertical-align: top;\n",
       "    }\n",
       "\n",
       "    .dataframe thead th {\n",
       "        text-align: right;\n",
       "    }\n",
       "</style>\n",
       "<table border=\"1\" class=\"dataframe\">\n",
       "  <thead>\n",
       "    <tr style=\"text-align: right;\">\n",
       "      <th></th>\n",
       "      <th>id</th>\n",
       "      <th>date</th>\n",
       "      <th>store_nbr</th>\n",
       "      <th>family</th>\n",
       "      <th>sales</th>\n",
       "      <th>onpromotion</th>\n",
       "      <th>city</th>\n",
       "      <th>state</th>\n",
       "      <th>type</th>\n",
       "      <th>cluster</th>\n",
       "    </tr>\n",
       "  </thead>\n",
       "  <tbody>\n",
       "    <tr>\n",
       "      <th>0</th>\n",
       "      <td>0.0</td>\n",
       "      <td>2013-01-01</td>\n",
       "      <td>1</td>\n",
       "      <td>AUTOMOTIVE</td>\n",
       "      <td>0.0</td>\n",
       "      <td>0.0</td>\n",
       "      <td>Quito</td>\n",
       "      <td>Pichincha</td>\n",
       "      <td>D</td>\n",
       "      <td>13</td>\n",
       "    </tr>\n",
       "    <tr>\n",
       "      <th>1</th>\n",
       "      <td>1.0</td>\n",
       "      <td>2013-01-01</td>\n",
       "      <td>1</td>\n",
       "      <td>BABY CARE</td>\n",
       "      <td>0.0</td>\n",
       "      <td>0.0</td>\n",
       "      <td>Quito</td>\n",
       "      <td>Pichincha</td>\n",
       "      <td>D</td>\n",
       "      <td>13</td>\n",
       "    </tr>\n",
       "    <tr>\n",
       "      <th>2</th>\n",
       "      <td>2.0</td>\n",
       "      <td>2013-01-01</td>\n",
       "      <td>1</td>\n",
       "      <td>BEAUTY</td>\n",
       "      <td>0.0</td>\n",
       "      <td>0.0</td>\n",
       "      <td>Quito</td>\n",
       "      <td>Pichincha</td>\n",
       "      <td>D</td>\n",
       "      <td>13</td>\n",
       "    </tr>\n",
       "    <tr>\n",
       "      <th>3</th>\n",
       "      <td>3.0</td>\n",
       "      <td>2013-01-01</td>\n",
       "      <td>1</td>\n",
       "      <td>BEVERAGES</td>\n",
       "      <td>0.0</td>\n",
       "      <td>0.0</td>\n",
       "      <td>Quito</td>\n",
       "      <td>Pichincha</td>\n",
       "      <td>D</td>\n",
       "      <td>13</td>\n",
       "    </tr>\n",
       "    <tr>\n",
       "      <th>4</th>\n",
       "      <td>4.0</td>\n",
       "      <td>2013-01-01</td>\n",
       "      <td>1</td>\n",
       "      <td>BOOKS</td>\n",
       "      <td>0.0</td>\n",
       "      <td>0.0</td>\n",
       "      <td>Quito</td>\n",
       "      <td>Pichincha</td>\n",
       "      <td>D</td>\n",
       "      <td>13</td>\n",
       "    </tr>\n",
       "  </tbody>\n",
       "</table>\n",
       "</div>"
      ],
      "text/plain": [
       "    id       date  store_nbr      family  sales  onpromotion   city  \\\n",
       "0  0.0 2013-01-01          1  AUTOMOTIVE    0.0          0.0  Quito   \n",
       "1  1.0 2013-01-01          1   BABY CARE    0.0          0.0  Quito   \n",
       "2  2.0 2013-01-01          1      BEAUTY    0.0          0.0  Quito   \n",
       "3  3.0 2013-01-01          1   BEVERAGES    0.0          0.0  Quito   \n",
       "4  4.0 2013-01-01          1       BOOKS    0.0          0.0  Quito   \n",
       "\n",
       "       state type  cluster  \n",
       "0  Pichincha    D       13  \n",
       "1  Pichincha    D       13  \n",
       "2  Pichincha    D       13  \n",
       "3  Pichincha    D       13  \n",
       "4  Pichincha    D       13  "
      ]
     },
     "execution_count": 39,
     "metadata": {},
     "output_type": "execute_result"
    }
   ],
   "source": [
    "#combining train data with storedata\n",
    "train_store_df=pd.merge(train_data,store_df,on='store_nbr',how='left')\n",
    "train_store_df.head()"
   ]
  },
  {
   "cell_type": "code",
   "execution_count": 40,
   "id": "86c36eda",
   "metadata": {
    "scrolled": true
   },
   "outputs": [
    {
     "data": {
      "text/html": [
       "<div>\n",
       "<style scoped>\n",
       "    .dataframe tbody tr th:only-of-type {\n",
       "        vertical-align: middle;\n",
       "    }\n",
       "\n",
       "    .dataframe tbody tr th {\n",
       "        vertical-align: top;\n",
       "    }\n",
       "\n",
       "    .dataframe thead th {\n",
       "        text-align: right;\n",
       "    }\n",
       "</style>\n",
       "<table border=\"1\" class=\"dataframe\">\n",
       "  <thead>\n",
       "    <tr style=\"text-align: right;\">\n",
       "      <th></th>\n",
       "      <th>id</th>\n",
       "      <th>date</th>\n",
       "      <th>store_nbr</th>\n",
       "      <th>family</th>\n",
       "      <th>sales</th>\n",
       "      <th>onpromotion</th>\n",
       "      <th>city</th>\n",
       "      <th>state</th>\n",
       "      <th>type_x</th>\n",
       "      <th>cluster</th>\n",
       "      <th>type_y</th>\n",
       "      <th>locale</th>\n",
       "      <th>locale_name</th>\n",
       "      <th>description</th>\n",
       "      <th>transferred</th>\n",
       "    </tr>\n",
       "  </thead>\n",
       "  <tbody>\n",
       "    <tr>\n",
       "      <th>0</th>\n",
       "      <td>0.0</td>\n",
       "      <td>2013-01-01</td>\n",
       "      <td>1</td>\n",
       "      <td>AUTOMOTIVE</td>\n",
       "      <td>0.0</td>\n",
       "      <td>0.0</td>\n",
       "      <td>Quito</td>\n",
       "      <td>Pichincha</td>\n",
       "      <td>D</td>\n",
       "      <td>13</td>\n",
       "      <td>Holiday</td>\n",
       "      <td>National</td>\n",
       "      <td>Ecuador</td>\n",
       "      <td>Primer dia del ano</td>\n",
       "      <td>False</td>\n",
       "    </tr>\n",
       "    <tr>\n",
       "      <th>1</th>\n",
       "      <td>1.0</td>\n",
       "      <td>2013-01-01</td>\n",
       "      <td>1</td>\n",
       "      <td>BABY CARE</td>\n",
       "      <td>0.0</td>\n",
       "      <td>0.0</td>\n",
       "      <td>Quito</td>\n",
       "      <td>Pichincha</td>\n",
       "      <td>D</td>\n",
       "      <td>13</td>\n",
       "      <td>Holiday</td>\n",
       "      <td>National</td>\n",
       "      <td>Ecuador</td>\n",
       "      <td>Primer dia del ano</td>\n",
       "      <td>False</td>\n",
       "    </tr>\n",
       "    <tr>\n",
       "      <th>2</th>\n",
       "      <td>2.0</td>\n",
       "      <td>2013-01-01</td>\n",
       "      <td>1</td>\n",
       "      <td>BEAUTY</td>\n",
       "      <td>0.0</td>\n",
       "      <td>0.0</td>\n",
       "      <td>Quito</td>\n",
       "      <td>Pichincha</td>\n",
       "      <td>D</td>\n",
       "      <td>13</td>\n",
       "      <td>Holiday</td>\n",
       "      <td>National</td>\n",
       "      <td>Ecuador</td>\n",
       "      <td>Primer dia del ano</td>\n",
       "      <td>False</td>\n",
       "    </tr>\n",
       "    <tr>\n",
       "      <th>3</th>\n",
       "      <td>3.0</td>\n",
       "      <td>2013-01-01</td>\n",
       "      <td>1</td>\n",
       "      <td>BEVERAGES</td>\n",
       "      <td>0.0</td>\n",
       "      <td>0.0</td>\n",
       "      <td>Quito</td>\n",
       "      <td>Pichincha</td>\n",
       "      <td>D</td>\n",
       "      <td>13</td>\n",
       "      <td>Holiday</td>\n",
       "      <td>National</td>\n",
       "      <td>Ecuador</td>\n",
       "      <td>Primer dia del ano</td>\n",
       "      <td>False</td>\n",
       "    </tr>\n",
       "    <tr>\n",
       "      <th>4</th>\n",
       "      <td>4.0</td>\n",
       "      <td>2013-01-01</td>\n",
       "      <td>1</td>\n",
       "      <td>BOOKS</td>\n",
       "      <td>0.0</td>\n",
       "      <td>0.0</td>\n",
       "      <td>Quito</td>\n",
       "      <td>Pichincha</td>\n",
       "      <td>D</td>\n",
       "      <td>13</td>\n",
       "      <td>Holiday</td>\n",
       "      <td>National</td>\n",
       "      <td>Ecuador</td>\n",
       "      <td>Primer dia del ano</td>\n",
       "      <td>False</td>\n",
       "    </tr>\n",
       "  </tbody>\n",
       "</table>\n",
       "</div>"
      ],
      "text/plain": [
       "    id       date  store_nbr      family  sales  onpromotion   city  \\\n",
       "0  0.0 2013-01-01          1  AUTOMOTIVE    0.0          0.0  Quito   \n",
       "1  1.0 2013-01-01          1   BABY CARE    0.0          0.0  Quito   \n",
       "2  2.0 2013-01-01          1      BEAUTY    0.0          0.0  Quito   \n",
       "3  3.0 2013-01-01          1   BEVERAGES    0.0          0.0  Quito   \n",
       "4  4.0 2013-01-01          1       BOOKS    0.0          0.0  Quito   \n",
       "\n",
       "       state type_x  cluster   type_y    locale locale_name  \\\n",
       "0  Pichincha      D       13  Holiday  National     Ecuador   \n",
       "1  Pichincha      D       13  Holiday  National     Ecuador   \n",
       "2  Pichincha      D       13  Holiday  National     Ecuador   \n",
       "3  Pichincha      D       13  Holiday  National     Ecuador   \n",
       "4  Pichincha      D       13  Holiday  National     Ecuador   \n",
       "\n",
       "          description transferred  \n",
       "0  Primer dia del ano       False  \n",
       "1  Primer dia del ano       False  \n",
       "2  Primer dia del ano       False  \n",
       "3  Primer dia del ano       False  \n",
       "4  Primer dia del ano       False  "
      ]
     },
     "execution_count": 40,
     "metadata": {},
     "output_type": "execute_result"
    }
   ],
   "source": [
    "#Combining train_store_df with the events_df on the dates\n",
    "combined_df=pd.merge(train_store_df, events_df, on='date',how='left')\n",
    "combined_df.head()"
   ]
  },
  {
   "cell_type": "code",
   "execution_count": 41,
   "id": "6a760c48",
   "metadata": {},
   "outputs": [],
   "source": [
    "df=pd.merge(combined_df,oil_data,on='date',how='left')"
   ]
  },
  {
   "cell_type": "code",
   "execution_count": 42,
   "id": "58a51d49",
   "metadata": {},
   "outputs": [
    {
     "data": {
      "text/html": [
       "<div>\n",
       "<style scoped>\n",
       "    .dataframe tbody tr th:only-of-type {\n",
       "        vertical-align: middle;\n",
       "    }\n",
       "\n",
       "    .dataframe tbody tr th {\n",
       "        vertical-align: top;\n",
       "    }\n",
       "\n",
       "    .dataframe thead th {\n",
       "        text-align: right;\n",
       "    }\n",
       "</style>\n",
       "<table border=\"1\" class=\"dataframe\">\n",
       "  <thead>\n",
       "    <tr style=\"text-align: right;\">\n",
       "      <th></th>\n",
       "      <th>id</th>\n",
       "      <th>date</th>\n",
       "      <th>store_nbr</th>\n",
       "      <th>family</th>\n",
       "      <th>sales</th>\n",
       "      <th>onpromotion</th>\n",
       "      <th>city</th>\n",
       "      <th>state</th>\n",
       "      <th>type_x</th>\n",
       "      <th>cluster</th>\n",
       "      <th>type_y</th>\n",
       "      <th>locale</th>\n",
       "      <th>locale_name</th>\n",
       "      <th>description</th>\n",
       "      <th>transferred</th>\n",
       "      <th>dcoilwtico</th>\n",
       "    </tr>\n",
       "  </thead>\n",
       "  <tbody>\n",
       "    <tr>\n",
       "      <th>3061471</th>\n",
       "      <td>NaN</td>\n",
       "      <td>2016-12-25</td>\n",
       "      <td>9</td>\n",
       "      <td>POULTRY</td>\n",
       "      <td>NaN</td>\n",
       "      <td>NaN</td>\n",
       "      <td>Quito</td>\n",
       "      <td>Pichincha</td>\n",
       "      <td>B</td>\n",
       "      <td>6</td>\n",
       "      <td>Holiday</td>\n",
       "      <td>National</td>\n",
       "      <td>Ecuador</td>\n",
       "      <td>Navidad</td>\n",
       "      <td>False</td>\n",
       "      <td>47.26</td>\n",
       "    </tr>\n",
       "    <tr>\n",
       "      <th>3061472</th>\n",
       "      <td>NaN</td>\n",
       "      <td>2016-12-25</td>\n",
       "      <td>9</td>\n",
       "      <td>PREPARED FOODS</td>\n",
       "      <td>NaN</td>\n",
       "      <td>NaN</td>\n",
       "      <td>Quito</td>\n",
       "      <td>Pichincha</td>\n",
       "      <td>B</td>\n",
       "      <td>6</td>\n",
       "      <td>Holiday</td>\n",
       "      <td>National</td>\n",
       "      <td>Ecuador</td>\n",
       "      <td>Navidad</td>\n",
       "      <td>False</td>\n",
       "      <td>47.26</td>\n",
       "    </tr>\n",
       "    <tr>\n",
       "      <th>3061473</th>\n",
       "      <td>NaN</td>\n",
       "      <td>2016-12-25</td>\n",
       "      <td>9</td>\n",
       "      <td>PRODUCE</td>\n",
       "      <td>NaN</td>\n",
       "      <td>NaN</td>\n",
       "      <td>Quito</td>\n",
       "      <td>Pichincha</td>\n",
       "      <td>B</td>\n",
       "      <td>6</td>\n",
       "      <td>Holiday</td>\n",
       "      <td>National</td>\n",
       "      <td>Ecuador</td>\n",
       "      <td>Navidad</td>\n",
       "      <td>False</td>\n",
       "      <td>47.26</td>\n",
       "    </tr>\n",
       "    <tr>\n",
       "      <th>3061474</th>\n",
       "      <td>NaN</td>\n",
       "      <td>2016-12-25</td>\n",
       "      <td>9</td>\n",
       "      <td>SCHOOL AND OFFICE SUPPLIES</td>\n",
       "      <td>NaN</td>\n",
       "      <td>NaN</td>\n",
       "      <td>Quito</td>\n",
       "      <td>Pichincha</td>\n",
       "      <td>B</td>\n",
       "      <td>6</td>\n",
       "      <td>Holiday</td>\n",
       "      <td>National</td>\n",
       "      <td>Ecuador</td>\n",
       "      <td>Navidad</td>\n",
       "      <td>False</td>\n",
       "      <td>47.26</td>\n",
       "    </tr>\n",
       "    <tr>\n",
       "      <th>3061475</th>\n",
       "      <td>NaN</td>\n",
       "      <td>2016-12-25</td>\n",
       "      <td>9</td>\n",
       "      <td>SEAFOOD</td>\n",
       "      <td>NaN</td>\n",
       "      <td>NaN</td>\n",
       "      <td>Quito</td>\n",
       "      <td>Pichincha</td>\n",
       "      <td>B</td>\n",
       "      <td>6</td>\n",
       "      <td>Holiday</td>\n",
       "      <td>National</td>\n",
       "      <td>Ecuador</td>\n",
       "      <td>Navidad</td>\n",
       "      <td>False</td>\n",
       "      <td>47.26</td>\n",
       "    </tr>\n",
       "  </tbody>\n",
       "</table>\n",
       "</div>"
      ],
      "text/plain": [
       "         id       date  store_nbr                      family  sales  \\\n",
       "3061471 NaN 2016-12-25          9                     POULTRY    NaN   \n",
       "3061472 NaN 2016-12-25          9              PREPARED FOODS    NaN   \n",
       "3061473 NaN 2016-12-25          9                     PRODUCE    NaN   \n",
       "3061474 NaN 2016-12-25          9  SCHOOL AND OFFICE SUPPLIES    NaN   \n",
       "3061475 NaN 2016-12-25          9                     SEAFOOD    NaN   \n",
       "\n",
       "         onpromotion   city      state type_x  cluster   type_y    locale  \\\n",
       "3061471          NaN  Quito  Pichincha      B        6  Holiday  National   \n",
       "3061472          NaN  Quito  Pichincha      B        6  Holiday  National   \n",
       "3061473          NaN  Quito  Pichincha      B        6  Holiday  National   \n",
       "3061474          NaN  Quito  Pichincha      B        6  Holiday  National   \n",
       "3061475          NaN  Quito  Pichincha      B        6  Holiday  National   \n",
       "\n",
       "        locale_name description transferred  dcoilwtico  \n",
       "3061471     Ecuador     Navidad       False       47.26  \n",
       "3061472     Ecuador     Navidad       False       47.26  \n",
       "3061473     Ecuador     Navidad       False       47.26  \n",
       "3061474     Ecuador     Navidad       False       47.26  \n",
       "3061475     Ecuador     Navidad       False       47.26  "
      ]
     },
     "execution_count": 42,
     "metadata": {},
     "output_type": "execute_result"
    }
   ],
   "source": [
    "df.tail()"
   ]
  },
  {
   "cell_type": "code",
   "execution_count": 43,
   "id": "09bb21bc",
   "metadata": {},
   "outputs": [
    {
     "data": {
      "text/plain": [
       "id                7128\n",
       "date                 0\n",
       "store_nbr            0\n",
       "family               0\n",
       "sales             7128\n",
       "onpromotion       7128\n",
       "city                 0\n",
       "state                0\n",
       "type_x               0\n",
       "cluster              0\n",
       "type_y         2551824\n",
       "locale         2551824\n",
       "locale_name    2551824\n",
       "description    2551824\n",
       "transferred    2551824\n",
       "dcoilwtico           0\n",
       "dtype: int64"
      ]
     },
     "execution_count": 43,
     "metadata": {},
     "output_type": "execute_result"
    }
   ],
   "source": [
    "df.isnull().sum()"
   ]
  },
  {
   "cell_type": "code",
   "execution_count": 44,
   "id": "38f47aa2",
   "metadata": {},
   "outputs": [
    {
     "data": {
      "text/plain": [
       "(3061476, 16)"
      ]
     },
     "execution_count": 44,
     "metadata": {},
     "output_type": "execute_result"
    }
   ],
   "source": [
    "df.shape"
   ]
  },
  {
   "cell_type": "code",
   "execution_count": 45,
   "id": "34a23966",
   "metadata": {},
   "outputs": [],
   "source": [
    "#Changing Index to Date Column\n",
    "df = df.set_index([\"date\"])"
   ]
  },
  {
   "cell_type": "markdown",
   "id": "84f71a66",
   "metadata": {},
   "source": [
    "## 2. Which dates have the lowest and highest sales for each year?"
   ]
  },
  {
   "cell_type": "code",
   "execution_count": 46,
   "id": "764de11b",
   "metadata": {},
   "outputs": [
    {
     "data": {
      "text/plain": [
       "date\n",
       "2013   2013-01-01\n",
       "2014   2014-01-01\n",
       "2015   2015-01-01\n",
       "2016   2016-01-01\n",
       "2017   2017-01-01\n",
       "Name: sales, dtype: datetime64[ns]"
      ]
     },
     "execution_count": 46,
     "metadata": {},
     "output_type": "execute_result"
    }
   ],
   "source": [
    "#Extracting the dates with lowest sales\n",
    "lowest_sales = df.groupby(df.index.year)['sales'].idxmin()\n",
    "lowest_sales"
   ]
  },
  {
   "cell_type": "code",
   "execution_count": 47,
   "id": "e3629542",
   "metadata": {},
   "outputs": [
    {
     "data": {
      "text/plain": [
       "date\n",
       "2013   2013-11-12\n",
       "2014   2014-12-08\n",
       "2015   2015-12-14\n",
       "2016   2016-05-02\n",
       "2017   2017-04-02\n",
       "Name: sales, dtype: datetime64[ns]"
      ]
     },
     "execution_count": 47,
     "metadata": {},
     "output_type": "execute_result"
    }
   ],
   "source": [
    "#Extracting dates with the highest sales in each year\n",
    "highest_sales = df.groupby(df.index.year)['sales'].idxmax()\n",
    "highest_sales"
   ]
  },
  {
   "cell_type": "markdown",
   "id": "600e2748",
   "metadata": {},
   "source": [
    "The beginning of each year recorded the lowest sales of that year this can be attributed to the feastive season and many people are still home. As for the highest sales that was varied across the different years."
   ]
  },
  {
   "cell_type": "markdown",
   "id": "649d4a9b",
   "metadata": {},
   "source": [
    "## 3. Did the earthquake impact sales?"
   ]
  },
  {
   "cell_type": "code",
   "execution_count": 48,
   "id": "7baa29f2",
   "metadata": {},
   "outputs": [],
   "source": [
    "# Define the date of the earthquake happend\n",
    "earthquake_date = pd.to_datetime(\"2016-04-16\")"
   ]
  },
  {
   "cell_type": "code",
   "execution_count": 49,
   "id": "6169a86c",
   "metadata": {},
   "outputs": [
    {
     "name": "stdout",
     "output_type": "stream",
     "text": [
      "Sales two weeks before 2016-04-16 00:00:00: date\n",
      "2016-04-02       6.000\n",
      "2016-04-02       0.000\n",
      "2016-04-02       3.000\n",
      "2016-04-02    2317.000\n",
      "2016-04-02       0.000\n",
      "                ...   \n",
      "2016-04-16     668.427\n",
      "2016-04-16     135.720\n",
      "2016-04-16    1496.493\n",
      "2016-04-16       2.000\n",
      "2016-04-16      27.638\n",
      "Name: sales, Length: 26730, dtype: float64\n"
     ]
    }
   ],
   "source": [
    "# Get the sales two weeks before the earthquake\n",
    "before_sales = df.loc[earthquake_date - pd.Timedelta(weeks=2):earthquake_date, 'sales']\n",
    "print(\"Sales two weeks before {}: {}\".format(earthquake_date, before_sales))"
   ]
  },
  {
   "cell_type": "code",
   "execution_count": 50,
   "id": "6908c21c",
   "metadata": {},
   "outputs": [
    {
     "name": "stdout",
     "output_type": "stream",
     "text": [
      "Sales two weeks after 2016-04-16 00:00:00: date\n",
      "2016-04-16       6.00000\n",
      "2016-04-16       0.00000\n",
      "2016-04-16       4.00000\n",
      "2016-04-16    2073.00000\n",
      "2016-04-16       0.00000\n",
      "                 ...    \n",
      "2016-04-30     826.35300\n",
      "2016-04-30     165.65399\n",
      "2016-04-30    2012.72700\n",
      "2016-04-30      10.00000\n",
      "2016-04-30      32.18600\n",
      "Name: sales, Length: 28512, dtype: float64\n"
     ]
    }
   ],
   "source": [
    "# Get the sales two weeks after the earthquake\n",
    "after_sales = df.loc[earthquake_date :earthquake_date + pd.Timedelta(weeks=2),'sales']\n",
    "print(\"Sales two weeks after {}: {}\".format(earthquake_date, after_sales))"
   ]
  },
  {
   "cell_type": "code",
   "execution_count": 51,
   "id": "c45576c9",
   "metadata": {},
   "outputs": [
    {
     "data": {
      "image/png": "[encoded data removed]",
      "text/plain": [
       "<Figure size 2000x1000 with 1 Axes>"
      ]
     },
     "metadata": {},
     "output_type": "display_data"
    }
   ],
   "source": [
    "#Extracting the dates 2 weeks before the earthquake\n",
    "before_df = df.loc[earthquake_date - pd.Timedelta(weeks=2):earthquake_date]\n",
    "\n",
    "#Extracting the dates 2 weeks after the earthquake\n",
    "after_df = df.loc[earthquake_date:earthquake_date + pd.Timedelta(weeks=2)]\n",
    "\n",
    "# Plot the sales before and after the earthquake\n",
    "plt.figure(figsize=(20, 10))\n",
    "Before=plt.plot(before_df.index, before_df['sales'], label='Before')\n",
    "After=plt.plot(after_df.index, after_df['sales'], label='After')\n",
    "\n",
    "plt.axvline(earthquake_date, color='r', linestyle='--')\n",
    "\n",
    "plt.title(\"Sales for 2 Weeks Before and After {}\".format(earthquake_date))\n",
    "plt.xlabel(\"Date\")\n",
    "plt.ylabel(\"Sales\")\n",
    "plt.legend()\n",
    "plt.show()"
   ]
  },
  {
   "cell_type": "markdown",
   "id": "68443c62",
   "metadata": {},
   "source": [
    "We did a comparison of sales before the earthquake 2 weeks before and after, we can conclude after the earthquake the sales increased significantly"
   ]
  },
  {
   "cell_type": "markdown",
   "id": "39cc9373",
   "metadata": {},
   "source": [
    "### 4. Are certain groups of stores selling more products? (Cluster, city, state, type)"
   ]
  },
  {
   "cell_type": "code",
   "execution_count": 52,
   "id": "a2e01893",
   "metadata": {},
   "outputs": [
    {
     "data": {
      "image/png": "[encoded data removed]",
      "text/plain": [
       "<Figure size 1500x1000 with 1 Axes>"
      ]
     },
     "metadata": {},
     "output_type": "display_data"
    }
   ],
   "source": [
    "# Group the data by cluster\n",
    "cluster_groups = df.groupby(['cluster'])['sales'].sum()\n",
    "plt.figure(figsize=(15, 10))\n",
    "cluster_groups.plot(kind = 'barh')\n",
    "\n",
    "# Add a title and axis labels\n",
    "plt.title(\"Total Sales per Cluster\")\n",
    "plt.xlabel(\"Total Sales in Millions\")\n",
    "plt.ylabel(\"Cluster \")\n",
    "plt.show()"
   ]
  },
  {
   "cell_type": "markdown",
   "id": "5165bedf",
   "metadata": {},
   "source": [
    "From the chart we see that cluster 14,6 and 8 are the top 3 with most sales of mote than 1.0 million."
   ]
  },
  {
   "cell_type": "code",
   "execution_count": 53,
   "id": "ddefedcd",
   "metadata": {},
   "outputs": [
    {
     "data": {
      "image/png": "[encoded data removed]",
      "text/plain": [
       "<Figure size 1500x1000 with 1 Axes>"
      ]
     },
     "metadata": {},
     "output_type": "display_data"
    }
   ],
   "source": [
    "# Group the data by cluster\n",
    "city_groups = df.groupby(['city'])['sales'].sum()\n",
    "plt.figure(figsize=(15, 10))\n",
    "city_groups.plot(kind = 'barh')\n",
    "\n",
    "# Add a title and axis labels\n",
    "plt.title(\"Total Sales per City\")\n",
    "plt.xlabel(\"Total Sales in Millions\")\n",
    "plt.ylabel(\"City\")\n",
    "\n",
    "plt.show()"
   ]
  },
  {
   "cell_type": "markdown",
   "id": "4c8ab4fc",
   "metadata": {},
   "source": [
    "From the chart we see that Quito city has the most sales compared to the rest and this is because many stores are located in  Quito. "
   ]
  },
  {
   "cell_type": "code",
   "execution_count": 54,
   "id": "72735ef8",
   "metadata": {},
   "outputs": [
    {
     "data": {
      "image/png": "[encoded data removed]",
      "text/plain": [
       "<Figure size 1500x1000 with 1 Axes>"
      ]
     },
     "metadata": {},
     "output_type": "display_data"
    }
   ],
   "source": [
    "# Group the data by cluster\n",
    "state_groups = df.groupby(['state'])['sales'].sum()\n",
    "plt.figure(figsize=(15, 10))\n",
    "state_groups.plot(kind = 'barh')\n",
    "\n",
    "# Add a title and axis labels\n",
    "plt.title(\"Total Sales per State\")\n",
    "plt.xlabel(\"Total Sales in Millions\")\n",
    "plt.ylabel(\"State\")\n",
    "\n",
    "plt.show()"
   ]
  },
  {
   "cell_type": "code",
   "execution_count": 55,
   "id": "48b60308",
   "metadata": {},
   "outputs": [
    {
     "data": {
      "image/png": "[encoded data removed]",
      "text/plain": [
       "<Figure size 1500x1000 with 1 Axes>"
      ]
     },
     "metadata": {},
     "output_type": "display_data"
    }
   ],
   "source": [
    "# Group the data by cluster\n",
    "type_groups = df.groupby(['type_x'])['sales'].sum()\n",
    "plt.figure(figsize=(15, 10))\n",
    "type_groups.plot(kind = 'bar')\n",
    "\n",
    "# Add a title and axis labels\n",
    "plt.title(\"Total Sales by Type X\")\n",
    "plt.xlabel(\"Type\")\n",
    "plt.ylabel(\"Total Sales in Millions\")\n",
    "\n",
    "plt.show()"
   ]
  },
  {
   "cell_type": "markdown",
   "id": "a1d0e5db",
   "metadata": {},
   "source": [
    "### 5. Are sales affected by promotions, oil prices and holidays?"
   ]
  },
  {
   "cell_type": "code",
   "execution_count": 56,
   "id": "30f10c2f",
   "metadata": {},
   "outputs": [],
   "source": [
    "#computing the Pearson correlation coefficient using corr()\n",
    "corr_matrix= df.corr()"
   ]
  },
  {
   "cell_type": "code",
   "execution_count": 57,
   "id": "25d912f7",
   "metadata": {
    "scrolled": true
   },
   "outputs": [
    {
     "data": {
      "text/plain": [
       "sales          1.000000\n",
       "onpromotion    0.428241\n",
       "id             0.086102\n",
       "store_nbr      0.041273\n",
       "cluster        0.038537\n",
       "dcoilwtico    -0.074779\n",
       "Name: sales, dtype: float64"
      ]
     },
     "execution_count": 57,
     "metadata": {},
     "output_type": "execute_result"
    }
   ],
   "source": [
    "#the Pearson correlation coefficient is to measure the strength of the relationship btwn variables with numeric values\n",
    "corr_matrix['sales'].sort_values(ascending=False)"
   ]
  },
  {
   "cell_type": "code",
   "execution_count": 58,
   "id": "6d4f95a7",
   "metadata": {},
   "outputs": [],
   "source": [
    "#another method to check the correlation is the pandas scatter_matrix function which plots \n",
    "#every numerical attribute against every other numerical attribute.\n",
    "#attributes=['onpromotion','sales','dcoilwtico']\n",
    "#scatter_matrix(df[attributes],figsize=(18,20))\n",
    "#plt.show()"
   ]
  },
  {
   "cell_type": "markdown",
   "id": "f1180c62",
   "metadata": {},
   "source": [
    "### 6. What analysis can we get from the date and its extractable features?"
   ]
  },
  {
   "cell_type": "code",
   "execution_count": 59,
   "id": "f4764a9f",
   "metadata": {},
   "outputs": [
    {
     "data": {
      "image/png": "[encoded data removed]",
      "text/plain": [
       "<Figure size 1000x500 with 1 Axes>"
      ]
     },
     "metadata": {},
     "output_type": "display_data"
    }
   ],
   "source": [
    "#Using the month extracted fromthe date to get monthly trend of sales\n",
    "monthly_sales = df.groupby(df.index.month)['sales'].sum()\n",
    "monthly_sales.plot(linewidth=1.2, figsize=(10,5))\n",
    "\n",
    "# Add a title and axis labels\n",
    "plt.title(\"Trend of Monthly Sales\")\n",
    "plt.xlabel(\"Month\")\n",
    "plt.ylabel(\"Total Sales (in Millions) \")\n",
    "\n",
    "plt.show()"
   ]
  },
  {
   "cell_type": "code",
   "execution_count": 60,
   "id": "82237adf",
   "metadata": {},
   "outputs": [
    {
     "data": {
      "image/png": "[encoded data removed]",
      "text/plain": [
       "<Figure size 2000x1000 with 1 Axes>"
      ]
     },
     "metadata": {},
     "output_type": "display_data"
    }
   ],
   "source": [
    "# Using the days of the week extracted from date get the trend of sales of the days of the week\n",
    "day_sales = df.groupby(df.index.day_name())['sales'].sum()\n",
    "day_sales.plot(linewidth=1.2, figsize=(20,10))\n",
    "\n",
    "# Add a title and axis labels\n",
    "plt.title(\"Trend of Monthly Sales\")\n",
    "plt.xlabel(\"Days of the Week\")\n",
    "plt.ylabel(\"Total Sales (in Millions) \")\n",
    "\n",
    "plt.show()"
   ]
  },
  {
   "cell_type": "markdown",
   "id": "5c08ed0c",
   "metadata": {},
   "source": [
    "### 7. What is the difference between RMSLE, RMSE, MSE (or why is the MAE greater than all of them?)\n"
   ]
  },
  {
   "cell_type": "markdown",
   "id": "f89ae237",
   "metadata": {},
   "source": [
    "### 8.What are the annual sales that each store make"
   ]
  },
  {
   "cell_type": "code",
   "execution_count": 61,
   "id": "8b8d81a5",
   "metadata": {},
   "outputs": [],
   "source": [
    "# Group the data by store and year\n",
    "annual_sales = df.groupby(['store_nbr',df.index.year])['sales'].agg('sum')"
   ]
  },
  {
   "cell_type": "code",
   "execution_count": 62,
   "id": "6b81ca49",
   "metadata": {},
   "outputs": [],
   "source": [
    "# Reset the index to make the store and year columns columns\n",
    "annual_sales = annual_sales.reset_index()"
   ]
  },
  {
   "cell_type": "code",
   "execution_count": 63,
   "id": "1e72ac69",
   "metadata": {},
   "outputs": [],
   "source": [
    "# Pivot the table so that each row represents a store and columns are the year\n",
    "annual_sales = annual_sales.pivot(index='store_nbr', columns='date', values='sales')"
   ]
  },
  {
   "cell_type": "code",
   "execution_count": 64,
   "id": "3837e175",
   "metadata": {
    "scrolled": false
   },
   "outputs": [
    {
     "data": {
      "image/png": "[encoded data removed]",
      "text/plain": [
       "<Figure size 2000x1000 with 1 Axes>"
      ]
     },
     "metadata": {},
     "output_type": "display_data"
    }
   ],
   "source": [
    "# Plot the yearly sales for each store\n",
    "annual_sales.plot(kind='bar', stacked=True, figsize=(20,10))\n",
    "\n",
    "# Add a title and axis labels\n",
    "plt.title(\"Annual_sales Sales by Store\")\n",
    "plt.xlabel(\"Store Numbers\")\n",
    "plt.ylabel(\"Total Sales (in Millions) \")\n",
    "\n",
    "plt.show()"
   ]
  },
  {
   "cell_type": "markdown",
   "id": "ca5fb48d",
   "metadata": {},
   "source": [
    "### 9. How many sales were made in the 1st quater of each year"
   ]
  },
  {
   "cell_type": "code",
   "execution_count": 65,
   "id": "82ca045b",
   "metadata": {},
   "outputs": [],
   "source": [
    "#Extracting the quaterly sales\n",
    "Quarterly_sales = df.groupby([df.index.to_period('Q'),df.index.year])['sales'].sum()"
   ]
  },
  {
   "cell_type": "code",
   "execution_count": 66,
   "id": "a08ac59c",
   "metadata": {},
   "outputs": [],
   "source": [
    "# filter for 1st quarter\n",
    "first_quarter_data = Quarterly_sales.loc[['2013Q1','2014Q1','2015Q1','2016Q1','2017Q1']]"
   ]
  },
  {
   "cell_type": "code",
   "execution_count": 67,
   "id": "885d8733",
   "metadata": {},
   "outputs": [
    {
     "data": {
      "image/png": "[encoded data removed]",
      "text/plain": [
       "<Figure size 1500x1000 with 1 Axes>"
      ]
     },
     "metadata": {},
     "output_type": "display_data"
    }
   ],
   "source": [
    "# create bar chart to represent the sales made in the 1st quater of each year\n",
    "first_quarter_data.plot(kind='bar', stacked=False, figsize=(15,10))\n",
    "plt.xticks(rotation=45)\n",
    "plt.title('Sales Trend for 2013 and 2017')\n",
    "plt.xlabel('Year')\n",
    "plt.ylabel('Sales')\n",
    "plt.show()"
   ]
  },
  {
   "cell_type": "markdown",
   "id": "75d8c080",
   "metadata": {},
   "source": [
    "There has been a steady growth across the years. The sales keep growing Quarter on Quarter every year."
   ]
  },
  {
   "cell_type": "markdown",
   "id": "0fea35ed",
   "metadata": {},
   "source": [
    "### 10. What is the trend of the sales over the years?"
   ]
  },
  {
   "cell_type": "code",
   "execution_count": 68,
   "id": "3525d5ec",
   "metadata": {},
   "outputs": [
    {
     "data": {
      "image/png": "[encoded data removed]",
      "text/plain": [
       "<Figure size 2000x1000 with 1 Axes>"
      ]
     },
     "metadata": {},
     "output_type": "display_data"
    }
   ],
   "source": [
    "#Trend of sales over the years\n",
    "df['sales'].plot(linewidth=0.5, figsize=(20,10))\n",
    "plt.title('Sales Trend for 2013 and 2017')\n",
    "plt.xlabel('Year')\n",
    "plt.ylabel('Sales')\n",
    "plt.show()"
   ]
  },
  {
   "cell_type": "markdown",
   "id": "d9d2ce60",
   "metadata": {},
   "source": [
    "# Feature Processing & Engineering"
   ]
  },
  {
   "cell_type": "markdown",
   "id": "1af2e77d",
   "metadata": {},
   "source": [
    "## New Features Creation"
   ]
  },
  {
   "cell_type": "code",
   "execution_count": 69,
   "id": "771c8707",
   "metadata": {},
   "outputs": [],
   "source": [
    "#Creating the Day, Month and Year column from the Date Column\n",
    "df['year'] = df.index.year\n",
    "df['month'] =df.index.month\n",
    "df['day']=df.index.day\n",
    "df['dayofweek']=df.index.weekday\n",
    "df['end_month']=df.index.is_month_end"
   ]
  },
  {
   "cell_type": "code",
   "execution_count": 70,
   "id": "c395e1da",
   "metadata": {},
   "outputs": [],
   "source": [
    "# categorizing the products\n",
    "food_families = ['BEVERAGES', 'BREAD/BAKERY', 'FROZEN FOODS', 'MEATS', 'PREPARED FOODS', 'DELI','PRODUCE', 'DAIRY','POULTRY','EGGS','SEAFOOD']\n",
    "df['family'] = np.where(df['family'].isin(food_families), 'FOODS', df['family'])\n",
    "home_families = ['HOME AND KITCHEN I', 'HOME AND KITCHEN II', 'HOME APPLIANCES']\n",
    "df['family'] = np.where(df['family'].isin(home_families), 'HOME', df['family'])\n",
    "clothing_families = ['LINGERIE', 'LADYSWARE']\n",
    "df['family'] = np.where(df['family'].isin(clothing_families), 'CLOTHING', df['family'])\n",
    "grocery_families = ['GROCERY I', 'GROCERY II']\n",
    "df['family'] = np.where(df['family'].isin(grocery_families), 'GROCERY', df['family'])\n",
    "stationery_families = ['BOOKS', 'MAGAZINES','SCHOOL AND OFFICE SUPPLIES']\n",
    "df['family'] = np.where(df['family'].isin(stationery_families), 'STATIONERY', df['family'])\n",
    "cleaning_families = ['HOME CARE', 'BABY CARE','PERSONAL CARE']\n",
    "df['family'] = np.where(df['family'].isin(cleaning_families), 'CLEANING', df['family'])\n",
    "hardware_families = ['PLAYERS AND ELECTRONICS','HARDWARE']\n",
    "df['family'] = np.where(df['family'].isin(hardware_families), 'HARDWARE', df['family'])"
   ]
  },
  {
   "cell_type": "code",
   "execution_count": 71,
   "id": "43f094b3",
   "metadata": {},
   "outputs": [],
   "source": [
    "df.rename(columns = {\"type_x\":\"store_type\",\"family\":\"products\"}, inplace = True)"
   ]
  },
  {
   "cell_type": "code",
   "execution_count": 72,
   "id": "0afdd44c",
   "metadata": {},
   "outputs": [
    {
     "data": {
      "text/html": [
       "<div>\n",
       "<style scoped>\n",
       "    .dataframe tbody tr th:only-of-type {\n",
       "        vertical-align: middle;\n",
       "    }\n",
       "\n",
       "    .dataframe tbody tr th {\n",
       "        vertical-align: top;\n",
       "    }\n",
       "\n",
       "    .dataframe thead th {\n",
       "        text-align: right;\n",
       "    }\n",
       "</style>\n",
       "<table border=\"1\" class=\"dataframe\">\n",
       "  <thead>\n",
       "    <tr style=\"text-align: right;\">\n",
       "      <th></th>\n",
       "      <th>id</th>\n",
       "      <th>store_nbr</th>\n",
       "      <th>products</th>\n",
       "      <th>sales</th>\n",
       "      <th>onpromotion</th>\n",
       "      <th>city</th>\n",
       "      <th>state</th>\n",
       "      <th>store_type</th>\n",
       "      <th>cluster</th>\n",
       "      <th>type_y</th>\n",
       "      <th>locale</th>\n",
       "      <th>locale_name</th>\n",
       "      <th>description</th>\n",
       "      <th>transferred</th>\n",
       "      <th>dcoilwtico</th>\n",
       "      <th>year</th>\n",
       "      <th>month</th>\n",
       "      <th>day</th>\n",
       "      <th>dayofweek</th>\n",
       "      <th>end_month</th>\n",
       "    </tr>\n",
       "    <tr>\n",
       "      <th>date</th>\n",
       "      <th></th>\n",
       "      <th></th>\n",
       "      <th></th>\n",
       "      <th></th>\n",
       "      <th></th>\n",
       "      <th></th>\n",
       "      <th></th>\n",
       "      <th></th>\n",
       "      <th></th>\n",
       "      <th></th>\n",
       "      <th></th>\n",
       "      <th></th>\n",
       "      <th></th>\n",
       "      <th></th>\n",
       "      <th></th>\n",
       "      <th></th>\n",
       "      <th></th>\n",
       "      <th></th>\n",
       "      <th></th>\n",
       "      <th></th>\n",
       "    </tr>\n",
       "  </thead>\n",
       "  <tbody>\n",
       "    <tr>\n",
       "      <th>2013-01-01</th>\n",
       "      <td>0.0</td>\n",
       "      <td>1</td>\n",
       "      <td>AUTOMOTIVE</td>\n",
       "      <td>0.0</td>\n",
       "      <td>0.0</td>\n",
       "      <td>Quito</td>\n",
       "      <td>Pichincha</td>\n",
       "      <td>D</td>\n",
       "      <td>13</td>\n",
       "      <td>Holiday</td>\n",
       "      <td>National</td>\n",
       "      <td>Ecuador</td>\n",
       "      <td>Primer dia del ano</td>\n",
       "      <td>False</td>\n",
       "      <td>93.14</td>\n",
       "      <td>2013</td>\n",
       "      <td>1</td>\n",
       "      <td>1</td>\n",
       "      <td>1</td>\n",
       "      <td>False</td>\n",
       "    </tr>\n",
       "    <tr>\n",
       "      <th>2013-01-01</th>\n",
       "      <td>1.0</td>\n",
       "      <td>1</td>\n",
       "      <td>CLEANING</td>\n",
       "      <td>0.0</td>\n",
       "      <td>0.0</td>\n",
       "      <td>Quito</td>\n",
       "      <td>Pichincha</td>\n",
       "      <td>D</td>\n",
       "      <td>13</td>\n",
       "      <td>Holiday</td>\n",
       "      <td>National</td>\n",
       "      <td>Ecuador</td>\n",
       "      <td>Primer dia del ano</td>\n",
       "      <td>False</td>\n",
       "      <td>93.14</td>\n",
       "      <td>2013</td>\n",
       "      <td>1</td>\n",
       "      <td>1</td>\n",
       "      <td>1</td>\n",
       "      <td>False</td>\n",
       "    </tr>\n",
       "    <tr>\n",
       "      <th>2013-01-01</th>\n",
       "      <td>2.0</td>\n",
       "      <td>1</td>\n",
       "      <td>BEAUTY</td>\n",
       "      <td>0.0</td>\n",
       "      <td>0.0</td>\n",
       "      <td>Quito</td>\n",
       "      <td>Pichincha</td>\n",
       "      <td>D</td>\n",
       "      <td>13</td>\n",
       "      <td>Holiday</td>\n",
       "      <td>National</td>\n",
       "      <td>Ecuador</td>\n",
       "      <td>Primer dia del ano</td>\n",
       "      <td>False</td>\n",
       "      <td>93.14</td>\n",
       "      <td>2013</td>\n",
       "      <td>1</td>\n",
       "      <td>1</td>\n",
       "      <td>1</td>\n",
       "      <td>False</td>\n",
       "    </tr>\n",
       "    <tr>\n",
       "      <th>2013-01-01</th>\n",
       "      <td>3.0</td>\n",
       "      <td>1</td>\n",
       "      <td>FOODS</td>\n",
       "      <td>0.0</td>\n",
       "      <td>0.0</td>\n",
       "      <td>Quito</td>\n",
       "      <td>Pichincha</td>\n",
       "      <td>D</td>\n",
       "      <td>13</td>\n",
       "      <td>Holiday</td>\n",
       "      <td>National</td>\n",
       "      <td>Ecuador</td>\n",
       "      <td>Primer dia del ano</td>\n",
       "      <td>False</td>\n",
       "      <td>93.14</td>\n",
       "      <td>2013</td>\n",
       "      <td>1</td>\n",
       "      <td>1</td>\n",
       "      <td>1</td>\n",
       "      <td>False</td>\n",
       "    </tr>\n",
       "    <tr>\n",
       "      <th>2013-01-01</th>\n",
       "      <td>4.0</td>\n",
       "      <td>1</td>\n",
       "      <td>STATIONERY</td>\n",
       "      <td>0.0</td>\n",
       "      <td>0.0</td>\n",
       "      <td>Quito</td>\n",
       "      <td>Pichincha</td>\n",
       "      <td>D</td>\n",
       "      <td>13</td>\n",
       "      <td>Holiday</td>\n",
       "      <td>National</td>\n",
       "      <td>Ecuador</td>\n",
       "      <td>Primer dia del ano</td>\n",
       "      <td>False</td>\n",
       "      <td>93.14</td>\n",
       "      <td>2013</td>\n",
       "      <td>1</td>\n",
       "      <td>1</td>\n",
       "      <td>1</td>\n",
       "      <td>False</td>\n",
       "    </tr>\n",
       "  </tbody>\n",
       "</table>\n",
       "</div>"
      ],
      "text/plain": [
       "             id  store_nbr    products  sales  onpromotion   city      state  \\\n",
       "date                                                                           \n",
       "2013-01-01  0.0          1  AUTOMOTIVE    0.0          0.0  Quito  Pichincha   \n",
       "2013-01-01  1.0          1    CLEANING    0.0          0.0  Quito  Pichincha   \n",
       "2013-01-01  2.0          1      BEAUTY    0.0          0.0  Quito  Pichincha   \n",
       "2013-01-01  3.0          1       FOODS    0.0          0.0  Quito  Pichincha   \n",
       "2013-01-01  4.0          1  STATIONERY    0.0          0.0  Quito  Pichincha   \n",
       "\n",
       "           store_type  cluster   type_y    locale locale_name  \\\n",
       "date                                                            \n",
       "2013-01-01          D       13  Holiday  National     Ecuador   \n",
       "2013-01-01          D       13  Holiday  National     Ecuador   \n",
       "2013-01-01          D       13  Holiday  National     Ecuador   \n",
       "2013-01-01          D       13  Holiday  National     Ecuador   \n",
       "2013-01-01          D       13  Holiday  National     Ecuador   \n",
       "\n",
       "                   description transferred  dcoilwtico  year  month  day  \\\n",
       "date                                                                       \n",
       "2013-01-01  Primer dia del ano       False       93.14  2013      1    1   \n",
       "2013-01-01  Primer dia del ano       False       93.14  2013      1    1   \n",
       "2013-01-01  Primer dia del ano       False       93.14  2013      1    1   \n",
       "2013-01-01  Primer dia del ano       False       93.14  2013      1    1   \n",
       "2013-01-01  Primer dia del ano       False       93.14  2013      1    1   \n",
       "\n",
       "            dayofweek  end_month  \n",
       "date                              \n",
       "2013-01-01          1      False  \n",
       "2013-01-01          1      False  \n",
       "2013-01-01          1      False  \n",
       "2013-01-01          1      False  \n",
       "2013-01-01          1      False  "
      ]
     },
     "execution_count": 72,
     "metadata": {},
     "output_type": "execute_result"
    }
   ],
   "source": [
    "df.head()"
   ]
  },
  {
   "cell_type": "code",
   "execution_count": 73,
   "id": "a1aa6b71",
   "metadata": {},
   "outputs": [],
   "source": [
    "df.drop(['id','locale','locale_name','description','transferred','city','type_y'],axis=1,inplace=True)"
   ]
  },
  {
   "cell_type": "code",
   "execution_count": 74,
   "id": "d97e0a5b",
   "metadata": {
    "scrolled": false
   },
   "outputs": [],
   "source": [
    "df.reset_index(inplace=True)"
   ]
  },
  {
   "cell_type": "code",
   "execution_count": 75,
   "id": "14021e9d",
   "metadata": {
    "scrolled": false
   },
   "outputs": [
    {
     "data": {
      "text/html": [
       "<div>\n",
       "<style scoped>\n",
       "    .dataframe tbody tr th:only-of-type {\n",
       "        vertical-align: middle;\n",
       "    }\n",
       "\n",
       "    .dataframe tbody tr th {\n",
       "        vertical-align: top;\n",
       "    }\n",
       "\n",
       "    .dataframe thead th {\n",
       "        text-align: right;\n",
       "    }\n",
       "</style>\n",
       "<table border=\"1\" class=\"dataframe\">\n",
       "  <thead>\n",
       "    <tr style=\"text-align: right;\">\n",
       "      <th></th>\n",
       "      <th>date</th>\n",
       "      <th>store_nbr</th>\n",
       "      <th>products</th>\n",
       "      <th>sales</th>\n",
       "      <th>onpromotion</th>\n",
       "      <th>state</th>\n",
       "      <th>store_type</th>\n",
       "      <th>cluster</th>\n",
       "      <th>dcoilwtico</th>\n",
       "      <th>year</th>\n",
       "      <th>month</th>\n",
       "      <th>day</th>\n",
       "      <th>dayofweek</th>\n",
       "      <th>end_month</th>\n",
       "    </tr>\n",
       "  </thead>\n",
       "  <tbody>\n",
       "    <tr>\n",
       "      <th>0</th>\n",
       "      <td>2013-01-01</td>\n",
       "      <td>1</td>\n",
       "      <td>AUTOMOTIVE</td>\n",
       "      <td>0.0</td>\n",
       "      <td>0.0</td>\n",
       "      <td>Pichincha</td>\n",
       "      <td>D</td>\n",
       "      <td>13</td>\n",
       "      <td>93.14</td>\n",
       "      <td>2013</td>\n",
       "      <td>1</td>\n",
       "      <td>1</td>\n",
       "      <td>1</td>\n",
       "      <td>False</td>\n",
       "    </tr>\n",
       "    <tr>\n",
       "      <th>1</th>\n",
       "      <td>2013-01-01</td>\n",
       "      <td>1</td>\n",
       "      <td>CLEANING</td>\n",
       "      <td>0.0</td>\n",
       "      <td>0.0</td>\n",
       "      <td>Pichincha</td>\n",
       "      <td>D</td>\n",
       "      <td>13</td>\n",
       "      <td>93.14</td>\n",
       "      <td>2013</td>\n",
       "      <td>1</td>\n",
       "      <td>1</td>\n",
       "      <td>1</td>\n",
       "      <td>False</td>\n",
       "    </tr>\n",
       "    <tr>\n",
       "      <th>2</th>\n",
       "      <td>2013-01-01</td>\n",
       "      <td>1</td>\n",
       "      <td>BEAUTY</td>\n",
       "      <td>0.0</td>\n",
       "      <td>0.0</td>\n",
       "      <td>Pichincha</td>\n",
       "      <td>D</td>\n",
       "      <td>13</td>\n",
       "      <td>93.14</td>\n",
       "      <td>2013</td>\n",
       "      <td>1</td>\n",
       "      <td>1</td>\n",
       "      <td>1</td>\n",
       "      <td>False</td>\n",
       "    </tr>\n",
       "    <tr>\n",
       "      <th>3</th>\n",
       "      <td>2013-01-01</td>\n",
       "      <td>1</td>\n",
       "      <td>FOODS</td>\n",
       "      <td>0.0</td>\n",
       "      <td>0.0</td>\n",
       "      <td>Pichincha</td>\n",
       "      <td>D</td>\n",
       "      <td>13</td>\n",
       "      <td>93.14</td>\n",
       "      <td>2013</td>\n",
       "      <td>1</td>\n",
       "      <td>1</td>\n",
       "      <td>1</td>\n",
       "      <td>False</td>\n",
       "    </tr>\n",
       "    <tr>\n",
       "      <th>4</th>\n",
       "      <td>2013-01-01</td>\n",
       "      <td>1</td>\n",
       "      <td>STATIONERY</td>\n",
       "      <td>0.0</td>\n",
       "      <td>0.0</td>\n",
       "      <td>Pichincha</td>\n",
       "      <td>D</td>\n",
       "      <td>13</td>\n",
       "      <td>93.14</td>\n",
       "      <td>2013</td>\n",
       "      <td>1</td>\n",
       "      <td>1</td>\n",
       "      <td>1</td>\n",
       "      <td>False</td>\n",
       "    </tr>\n",
       "  </tbody>\n",
       "</table>\n",
       "</div>"
      ],
      "text/plain": [
       "        date  store_nbr    products  sales  onpromotion      state store_type  \\\n",
       "0 2013-01-01          1  AUTOMOTIVE    0.0          0.0  Pichincha          D   \n",
       "1 2013-01-01          1    CLEANING    0.0          0.0  Pichincha          D   \n",
       "2 2013-01-01          1      BEAUTY    0.0          0.0  Pichincha          D   \n",
       "3 2013-01-01          1       FOODS    0.0          0.0  Pichincha          D   \n",
       "4 2013-01-01          1  STATIONERY    0.0          0.0  Pichincha          D   \n",
       "\n",
       "   cluster  dcoilwtico  year  month  day  dayofweek  end_month  \n",
       "0       13       93.14  2013      1    1          1      False  \n",
       "1       13       93.14  2013      1    1          1      False  \n",
       "2       13       93.14  2013      1    1          1      False  \n",
       "3       13       93.14  2013      1    1          1      False  \n",
       "4       13       93.14  2013      1    1          1      False  "
      ]
     },
     "execution_count": 75,
     "metadata": {},
     "output_type": "execute_result"
    }
   ],
   "source": [
    "df.head(5)"
   ]
  },
  {
   "cell_type": "code",
   "execution_count": 76,
   "id": "0f6d1136",
   "metadata": {
    "scrolled": false
   },
   "outputs": [
    {
     "data": {
      "text/plain": [
       "date              0\n",
       "store_nbr         0\n",
       "products          0\n",
       "sales          7128\n",
       "onpromotion    7128\n",
       "state             0\n",
       "store_type        0\n",
       "cluster           0\n",
       "dcoilwtico        0\n",
       "year              0\n",
       "month             0\n",
       "day               0\n",
       "dayofweek         0\n",
       "end_month         0\n",
       "dtype: int64"
      ]
     },
     "execution_count": 76,
     "metadata": {},
     "output_type": "execute_result"
    }
   ],
   "source": [
    "df.isnull().sum()"
   ]
  },
  {
   "cell_type": "code",
   "execution_count": 77,
   "id": "2086103d",
   "metadata": {},
   "outputs": [],
   "source": [
    "df['sales'].fillna(0,inplace=True)"
   ]
  },
  {
   "cell_type": "code",
   "execution_count": 78,
   "id": "82429e9a",
   "metadata": {},
   "outputs": [
    {
     "data": {
      "text/plain": [
       "array(['AUTOMOTIVE', 'CLEANING', 'BEAUTY', 'FOODS', 'STATIONERY',\n",
       "       'CELEBRATION', 'GROCERY', 'HARDWARE', 'HOME', 'LADIESWEAR',\n",
       "       'LAWN AND GARDEN', 'CLOTHING', 'LIQUOR,WINE,BEER', 'PET SUPPLIES'],\n",
       "      dtype=object)"
      ]
     },
     "execution_count": 78,
     "metadata": {},
     "output_type": "execute_result"
    }
   ],
   "source": [
    "df['products'].unique()"
   ]
  },
  {
   "cell_type": "code",
   "execution_count": 79,
   "id": "d525398d",
   "metadata": {},
   "outputs": [
    {
     "data": {
      "text/plain": [
       "array(['Pichincha', 'Cotopaxi', 'Chimborazo', 'Imbabura',\n",
       "       'Santo Domingo de los Tsachilas', 'Bolivar', 'Pastaza',\n",
       "       'Tungurahua', 'Guayas', 'Santa Elena', 'Los Rios', 'Azuay', 'Loja',\n",
       "       'El Oro', 'Esmeraldas', 'Manabi'], dtype=object)"
      ]
     },
     "execution_count": 79,
     "metadata": {},
     "output_type": "execute_result"
    }
   ],
   "source": [
    "df['state'].unique()"
   ]
  },
  {
   "cell_type": "code",
   "execution_count": 80,
   "id": "78bd09df",
   "metadata": {},
   "outputs": [
    {
     "data": {
      "text/plain": [
       "array(['D', 'C', 'B', 'E', 'A'], dtype=object)"
      ]
     },
     "execution_count": 80,
     "metadata": {},
     "output_type": "execute_result"
    }
   ],
   "source": [
    "df['store_type'].unique()"
   ]
  },
  {
   "cell_type": "markdown",
   "id": "33828ee0",
   "metadata": {},
   "source": [
    "## Data spliting"
   ]
  },
  {
   "cell_type": "code",
   "execution_count": 81,
   "id": "171e790a",
   "metadata": {},
   "outputs": [],
   "source": [
    "# Calculate the number of rows in the data\n",
    "n_rows = df.shape[0]\n",
    "\n",
    "# Calculate the split point\n",
    "split_point = int(n_rows * 0.85)\n",
    "\n",
    "# Select the first 85% of the rows as the training data\n",
    "X_train = df.iloc[:split_point]\n",
    "y_train = X_train['sales']\n",
    "X_train = X_train.drop('sales', axis=1)\n",
    "\n",
    "# Select the remaining 15% of the rows as the validation data\n",
    "X_eval = df.iloc[split_point:]\n",
    "y_eval = X_eval['sales']\n",
    "X_eval = X_eval.drop('sales', axis=1)\n"
   ]
  },
  {
   "cell_type": "code",
   "execution_count": 82,
   "id": "39410508",
   "metadata": {},
   "outputs": [
    {
     "data": {
      "text/plain": [
       "((2602254, 13), (459222, 13), (2602254,), (459222,))"
      ]
     },
     "execution_count": 82,
     "metadata": {},
     "output_type": "execute_result"
    }
   ],
   "source": [
    "X_train.shape,X_eval.shape,y_train.shape,y_eval.shape"
   ]
  },
  {
   "cell_type": "markdown",
   "id": "4cb156d2",
   "metadata": {},
   "source": [
    "## Impute Missing Values"
   ]
  },
  {
   "cell_type": "code",
   "execution_count": 83,
   "id": "d2877cba",
   "metadata": {},
   "outputs": [],
   "source": [
    "categorical_columns = ['products', 'end_month', 'store_type', 'state']"
   ]
  },
  {
   "cell_type": "code",
   "execution_count": 84,
   "id": "34dcd188",
   "metadata": {},
   "outputs": [],
   "source": [
    "numerical_columns =['store_nbr','onpromotion','cluster','dcoilwtico','year','month','day','dayofweek']"
   ]
  },
  {
   "cell_type": "code",
   "execution_count": 85,
   "id": "4ded5ca3",
   "metadata": {},
   "outputs": [],
   "source": [
    "'''creating copy of the categorical features and numerical features\n",
    "before imputing null value to avoid modifying the orginal dataset'''\n",
    "\n",
    "X_train_cat = X_train[categorical_columns].copy()\n",
    "X_train_num = X_train[numerical_columns].copy()\n",
    "\n",
    "X_eval_cat = X_eval[categorical_columns].copy()\n",
    "X_eval_num = X_eval[numerical_columns].copy()"
   ]
  },
  {
   "cell_type": "code",
   "execution_count": 86,
   "id": "7cb4663d",
   "metadata": {},
   "outputs": [],
   "source": [
    "# Creating imputer variables\n",
    "numerical_imputer = SimpleImputer(strategy = \"mean\")\n",
    "categorical_imputer = SimpleImputer(strategy = \"most_frequent\")"
   ]
  },
  {
   "cell_type": "code",
   "execution_count": 87,
   "id": "e315c29a",
   "metadata": {},
   "outputs": [],
   "source": [
    "# Fitting the Imputer\n",
    "X_train_cat_imputed = categorical_imputer.fit_transform(X_train_cat)\n",
    "X_train_num_imputed = numerical_imputer.fit_transform(X_train_num)\n",
    "\n",
    "X_eval_cat_imputed = categorical_imputer.fit_transform(X_eval_cat)\n",
    "X_eval_num_imputed = numerical_imputer.fit_transform(X_eval_num)"
   ]
  },
  {
   "cell_type": "markdown",
   "id": "78dfb0f3",
   "metadata": {},
   "source": [
    "## Features Encoding"
   ]
  },
  {
   "cell_type": "code",
   "execution_count": 88,
   "id": "dc85f567",
   "metadata": {},
   "outputs": [],
   "source": [
    "encoder=OneHotEncoder(handle_unknown='ignore')"
   ]
  },
  {
   "cell_type": "code",
   "execution_count": 89,
   "id": "efce4c14",
   "metadata": {},
   "outputs": [],
   "source": [
    "# encoding the xtrain categories and converting to a dataframe\n",
    "X_train_cat_encoded = encoder.fit(X_train_cat_imputed)\n",
    "X_train_cat_encoded = pd.DataFrame(encoder.transform(X_train_cat_imputed).toarray(),\n",
    "                                   columns=encoder.get_feature_names(categorical_columns))"
   ]
  },
  {
   "cell_type": "code",
   "execution_count": 90,
   "id": "2964d914",
   "metadata": {},
   "outputs": [],
   "source": [
    "# encoding the xeval categories and converting to a dataframe\n",
    "X_eval_cat_encoded = encoder.fit(X_eval_cat_imputed)\n",
    "X_eval_cat_encoded = pd.DataFrame(encoder.transform(X_eval_cat_imputed).toarray(),\n",
    "                                   columns=encoder.get_feature_names(categorical_columns))"
   ]
  },
  {
   "cell_type": "markdown",
   "id": "ee88489c",
   "metadata": {},
   "source": [
    "## Data scalling"
   ]
  },
  {
   "cell_type": "code",
   "execution_count": 91,
   "id": "19463ba3",
   "metadata": {},
   "outputs": [],
   "source": [
    "scaler= StandardScaler()"
   ]
  },
  {
   "cell_type": "code",
   "execution_count": 92,
   "id": "a024510b",
   "metadata": {},
   "outputs": [],
   "source": [
    "X_train_num_scaled = scaler.fit_transform(X_train_num_imputed)\n",
    "X_train_num_sc = pd.DataFrame(X_train_num_scaled, columns = numerical_columns)"
   ]
  },
  {
   "cell_type": "code",
   "execution_count": 93,
   "id": "88054eb2",
   "metadata": {},
   "outputs": [],
   "source": [
    "X_eval_num_scaled = scaler.fit_transform(X_eval_num_imputed)\n",
    "X_eval_num_sc = pd.DataFrame(X_eval_num_scaled, columns = numerical_columns)"
   ]
  },
  {
   "cell_type": "markdown",
   "id": "44d6dfb3",
   "metadata": {},
   "source": [
    "## Combining the xtrain cat and xtrain num"
   ]
  },
  {
   "cell_type": "code",
   "execution_count": 94,
   "id": "5bb7ed15",
   "metadata": {},
   "outputs": [],
   "source": [
    "X_train_df = pd.concat([X_train_num_sc,X_train_cat_encoded], axis =1)\n",
    "X_eval_df = pd.concat([X_eval_num_sc,X_eval_cat_encoded], axis =1)"
   ]
  },
  {
   "cell_type": "code",
   "execution_count": 95,
   "id": "73764dfd",
   "metadata": {},
   "outputs": [
    {
     "data": {
      "text/html": [
       "<div>\n",
       "<style scoped>\n",
       "    .dataframe tbody tr th:only-of-type {\n",
       "        vertical-align: middle;\n",
       "    }\n",
       "\n",
       "    .dataframe tbody tr th {\n",
       "        vertical-align: top;\n",
       "    }\n",
       "\n",
       "    .dataframe thead th {\n",
       "        text-align: right;\n",
       "    }\n",
       "</style>\n",
       "<table border=\"1\" class=\"dataframe\">\n",
       "  <thead>\n",
       "    <tr style=\"text-align: right;\">\n",
       "      <th></th>\n",
       "      <th>store_nbr</th>\n",
       "      <th>onpromotion</th>\n",
       "      <th>cluster</th>\n",
       "      <th>dcoilwtico</th>\n",
       "      <th>year</th>\n",
       "      <th>month</th>\n",
       "      <th>day</th>\n",
       "      <th>dayofweek</th>\n",
       "      <th>products_AUTOMOTIVE</th>\n",
       "      <th>products_BEAUTY</th>\n",
       "      <th>...</th>\n",
       "      <th>state_Guayas</th>\n",
       "      <th>state_Imbabura</th>\n",
       "      <th>state_Loja</th>\n",
       "      <th>state_Los Rios</th>\n",
       "      <th>state_Manabi</th>\n",
       "      <th>state_Pastaza</th>\n",
       "      <th>state_Pichincha</th>\n",
       "      <th>state_Santa Elena</th>\n",
       "      <th>state_Santo Domingo de los Tsachilas</th>\n",
       "      <th>state_Tungurahua</th>\n",
       "    </tr>\n",
       "  </thead>\n",
       "  <tbody>\n",
       "    <tr>\n",
       "      <th>0</th>\n",
       "      <td>-1.700128</td>\n",
       "      <td>-0.173535</td>\n",
       "      <td>0.971672</td>\n",
       "      <td>1.161929</td>\n",
       "      <td>-1.332498</td>\n",
       "      <td>-1.604796</td>\n",
       "      <td>-1.662658</td>\n",
       "      <td>-1.004298</td>\n",
       "      <td>1.0</td>\n",
       "      <td>0.0</td>\n",
       "      <td>...</td>\n",
       "      <td>0.0</td>\n",
       "      <td>0.0</td>\n",
       "      <td>0.0</td>\n",
       "      <td>0.0</td>\n",
       "      <td>0.0</td>\n",
       "      <td>0.0</td>\n",
       "      <td>1.0</td>\n",
       "      <td>0.0</td>\n",
       "      <td>0.0</td>\n",
       "      <td>0.0</td>\n",
       "    </tr>\n",
       "    <tr>\n",
       "      <th>1</th>\n",
       "      <td>-1.700128</td>\n",
       "      <td>-0.173535</td>\n",
       "      <td>0.971672</td>\n",
       "      <td>1.161929</td>\n",
       "      <td>-1.332498</td>\n",
       "      <td>-1.604796</td>\n",
       "      <td>-1.662658</td>\n",
       "      <td>-1.004298</td>\n",
       "      <td>0.0</td>\n",
       "      <td>0.0</td>\n",
       "      <td>...</td>\n",
       "      <td>0.0</td>\n",
       "      <td>0.0</td>\n",
       "      <td>0.0</td>\n",
       "      <td>0.0</td>\n",
       "      <td>0.0</td>\n",
       "      <td>0.0</td>\n",
       "      <td>1.0</td>\n",
       "      <td>0.0</td>\n",
       "      <td>0.0</td>\n",
       "      <td>0.0</td>\n",
       "    </tr>\n",
       "    <tr>\n",
       "      <th>2</th>\n",
       "      <td>-1.700128</td>\n",
       "      <td>-0.173535</td>\n",
       "      <td>0.971672</td>\n",
       "      <td>1.161929</td>\n",
       "      <td>-1.332498</td>\n",
       "      <td>-1.604796</td>\n",
       "      <td>-1.662658</td>\n",
       "      <td>-1.004298</td>\n",
       "      <td>0.0</td>\n",
       "      <td>1.0</td>\n",
       "      <td>...</td>\n",
       "      <td>0.0</td>\n",
       "      <td>0.0</td>\n",
       "      <td>0.0</td>\n",
       "      <td>0.0</td>\n",
       "      <td>0.0</td>\n",
       "      <td>0.0</td>\n",
       "      <td>1.0</td>\n",
       "      <td>0.0</td>\n",
       "      <td>0.0</td>\n",
       "      <td>0.0</td>\n",
       "    </tr>\n",
       "    <tr>\n",
       "      <th>3</th>\n",
       "      <td>-1.700128</td>\n",
       "      <td>-0.173535</td>\n",
       "      <td>0.971672</td>\n",
       "      <td>1.161929</td>\n",
       "      <td>-1.332498</td>\n",
       "      <td>-1.604796</td>\n",
       "      <td>-1.662658</td>\n",
       "      <td>-1.004298</td>\n",
       "      <td>0.0</td>\n",
       "      <td>0.0</td>\n",
       "      <td>...</td>\n",
       "      <td>0.0</td>\n",
       "      <td>0.0</td>\n",
       "      <td>0.0</td>\n",
       "      <td>0.0</td>\n",
       "      <td>0.0</td>\n",
       "      <td>0.0</td>\n",
       "      <td>1.0</td>\n",
       "      <td>0.0</td>\n",
       "      <td>0.0</td>\n",
       "      <td>0.0</td>\n",
       "    </tr>\n",
       "    <tr>\n",
       "      <th>4</th>\n",
       "      <td>-1.700128</td>\n",
       "      <td>-0.173535</td>\n",
       "      <td>0.971672</td>\n",
       "      <td>1.161929</td>\n",
       "      <td>-1.332498</td>\n",
       "      <td>-1.604796</td>\n",
       "      <td>-1.662658</td>\n",
       "      <td>-1.004298</td>\n",
       "      <td>0.0</td>\n",
       "      <td>0.0</td>\n",
       "      <td>...</td>\n",
       "      <td>0.0</td>\n",
       "      <td>0.0</td>\n",
       "      <td>0.0</td>\n",
       "      <td>0.0</td>\n",
       "      <td>0.0</td>\n",
       "      <td>0.0</td>\n",
       "      <td>1.0</td>\n",
       "      <td>0.0</td>\n",
       "      <td>0.0</td>\n",
       "      <td>0.0</td>\n",
       "    </tr>\n",
       "  </tbody>\n",
       "</table>\n",
       "<p>5 rows × 45 columns</p>\n",
       "</div>"
      ],
      "text/plain": [
       "   store_nbr  onpromotion   cluster  dcoilwtico      year     month       day  \\\n",
       "0  -1.700128    -0.173535  0.971672    1.161929 -1.332498 -1.604796 -1.662658   \n",
       "1  -1.700128    -0.173535  0.971672    1.161929 -1.332498 -1.604796 -1.662658   \n",
       "2  -1.700128    -0.173535  0.971672    1.161929 -1.332498 -1.604796 -1.662658   \n",
       "3  -1.700128    -0.173535  0.971672    1.161929 -1.332498 -1.604796 -1.662658   \n",
       "4  -1.700128    -0.173535  0.971672    1.161929 -1.332498 -1.604796 -1.662658   \n",
       "\n",
       "   dayofweek  products_AUTOMOTIVE  products_BEAUTY  ...  state_Guayas  \\\n",
       "0  -1.004298                  1.0              0.0  ...           0.0   \n",
       "1  -1.004298                  0.0              0.0  ...           0.0   \n",
       "2  -1.004298                  0.0              1.0  ...           0.0   \n",
       "3  -1.004298                  0.0              0.0  ...           0.0   \n",
       "4  -1.004298                  0.0              0.0  ...           0.0   \n",
       "\n",
       "   state_Imbabura  state_Loja  state_Los Rios  state_Manabi  state_Pastaza  \\\n",
       "0             0.0         0.0             0.0           0.0            0.0   \n",
       "1             0.0         0.0             0.0           0.0            0.0   \n",
       "2             0.0         0.0             0.0           0.0            0.0   \n",
       "3             0.0         0.0             0.0           0.0            0.0   \n",
       "4             0.0         0.0             0.0           0.0            0.0   \n",
       "\n",
       "   state_Pichincha  state_Santa Elena  state_Santo Domingo de los Tsachilas  \\\n",
       "0              1.0                0.0                                   0.0   \n",
       "1              1.0                0.0                                   0.0   \n",
       "2              1.0                0.0                                   0.0   \n",
       "3              1.0                0.0                                   0.0   \n",
       "4              1.0                0.0                                   0.0   \n",
       "\n",
       "   state_Tungurahua  \n",
       "0               0.0  \n",
       "1               0.0  \n",
       "2               0.0  \n",
       "3               0.0  \n",
       "4               0.0  \n",
       "\n",
       "[5 rows x 45 columns]"
      ]
     },
     "execution_count": 95,
     "metadata": {},
     "output_type": "execute_result"
    }
   ],
   "source": [
    "X_train_df.head()"
   ]
  },
  {
   "cell_type": "code",
   "execution_count": 96,
   "id": "c7065061",
   "metadata": {
    "scrolled": true
   },
   "outputs": [
    {
     "data": {
      "text/html": [
       "<div>\n",
       "<style scoped>\n",
       "    .dataframe tbody tr th:only-of-type {\n",
       "        vertical-align: middle;\n",
       "    }\n",
       "\n",
       "    .dataframe tbody tr th {\n",
       "        vertical-align: top;\n",
       "    }\n",
       "\n",
       "    .dataframe thead th {\n",
       "        text-align: right;\n",
       "    }\n",
       "</style>\n",
       "<table border=\"1\" class=\"dataframe\">\n",
       "  <thead>\n",
       "    <tr style=\"text-align: right;\">\n",
       "      <th></th>\n",
       "      <th>store_nbr</th>\n",
       "      <th>onpromotion</th>\n",
       "      <th>cluster</th>\n",
       "      <th>dcoilwtico</th>\n",
       "      <th>year</th>\n",
       "      <th>month</th>\n",
       "      <th>day</th>\n",
       "      <th>dayofweek</th>\n",
       "      <th>products_AUTOMOTIVE</th>\n",
       "      <th>products_BEAUTY</th>\n",
       "      <th>...</th>\n",
       "      <th>state_Guayas</th>\n",
       "      <th>state_Imbabura</th>\n",
       "      <th>state_Loja</th>\n",
       "      <th>state_Los Rios</th>\n",
       "      <th>state_Manabi</th>\n",
       "      <th>state_Pastaza</th>\n",
       "      <th>state_Pichincha</th>\n",
       "      <th>state_Santa Elena</th>\n",
       "      <th>state_Santo Domingo de los Tsachilas</th>\n",
       "      <th>state_Tungurahua</th>\n",
       "    </tr>\n",
       "  </thead>\n",
       "  <tbody>\n",
       "    <tr>\n",
       "      <th>0</th>\n",
       "      <td>-0.225495</td>\n",
       "      <td>-0.331062</td>\n",
       "      <td>-1.608553</td>\n",
       "      <td>0.548863</td>\n",
       "      <td>-2.011529</td>\n",
       "      <td>2.212358</td>\n",
       "      <td>-0.776607</td>\n",
       "      <td>0.489502</td>\n",
       "      <td>0.0</td>\n",
       "      <td>0.0</td>\n",
       "      <td>...</td>\n",
       "      <td>1.0</td>\n",
       "      <td>0.0</td>\n",
       "      <td>0.0</td>\n",
       "      <td>0.0</td>\n",
       "      <td>0.0</td>\n",
       "      <td>0.0</td>\n",
       "      <td>0.0</td>\n",
       "      <td>0.0</td>\n",
       "      <td>0.0</td>\n",
       "      <td>0.0</td>\n",
       "    </tr>\n",
       "    <tr>\n",
       "      <th>1</th>\n",
       "      <td>-0.225495</td>\n",
       "      <td>1.247247</td>\n",
       "      <td>-1.608553</td>\n",
       "      <td>0.548863</td>\n",
       "      <td>-2.011529</td>\n",
       "      <td>2.212358</td>\n",
       "      <td>-0.776607</td>\n",
       "      <td>0.489502</td>\n",
       "      <td>0.0</td>\n",
       "      <td>0.0</td>\n",
       "      <td>...</td>\n",
       "      <td>1.0</td>\n",
       "      <td>0.0</td>\n",
       "      <td>0.0</td>\n",
       "      <td>0.0</td>\n",
       "      <td>0.0</td>\n",
       "      <td>0.0</td>\n",
       "      <td>0.0</td>\n",
       "      <td>0.0</td>\n",
       "      <td>0.0</td>\n",
       "      <td>0.0</td>\n",
       "    </tr>\n",
       "    <tr>\n",
       "      <th>2</th>\n",
       "      <td>-0.225495</td>\n",
       "      <td>0.757427</td>\n",
       "      <td>-1.608553</td>\n",
       "      <td>0.548863</td>\n",
       "      <td>-2.011529</td>\n",
       "      <td>2.212358</td>\n",
       "      <td>-0.776607</td>\n",
       "      <td>0.489502</td>\n",
       "      <td>0.0</td>\n",
       "      <td>0.0</td>\n",
       "      <td>...</td>\n",
       "      <td>1.0</td>\n",
       "      <td>0.0</td>\n",
       "      <td>0.0</td>\n",
       "      <td>0.0</td>\n",
       "      <td>0.0</td>\n",
       "      <td>0.0</td>\n",
       "      <td>0.0</td>\n",
       "      <td>0.0</td>\n",
       "      <td>0.0</td>\n",
       "      <td>0.0</td>\n",
       "    </tr>\n",
       "    <tr>\n",
       "      <th>3</th>\n",
       "      <td>-0.225495</td>\n",
       "      <td>3.097679</td>\n",
       "      <td>-1.608553</td>\n",
       "      <td>0.548863</td>\n",
       "      <td>-2.011529</td>\n",
       "      <td>2.212358</td>\n",
       "      <td>-0.776607</td>\n",
       "      <td>0.489502</td>\n",
       "      <td>0.0</td>\n",
       "      <td>0.0</td>\n",
       "      <td>...</td>\n",
       "      <td>1.0</td>\n",
       "      <td>0.0</td>\n",
       "      <td>0.0</td>\n",
       "      <td>0.0</td>\n",
       "      <td>0.0</td>\n",
       "      <td>0.0</td>\n",
       "      <td>0.0</td>\n",
       "      <td>0.0</td>\n",
       "      <td>0.0</td>\n",
       "      <td>0.0</td>\n",
       "    </tr>\n",
       "    <tr>\n",
       "      <th>4</th>\n",
       "      <td>-0.225495</td>\n",
       "      <td>1.192823</td>\n",
       "      <td>-1.608553</td>\n",
       "      <td>0.548863</td>\n",
       "      <td>-2.011529</td>\n",
       "      <td>2.212358</td>\n",
       "      <td>-0.776607</td>\n",
       "      <td>0.489502</td>\n",
       "      <td>0.0</td>\n",
       "      <td>0.0</td>\n",
       "      <td>...</td>\n",
       "      <td>1.0</td>\n",
       "      <td>0.0</td>\n",
       "      <td>0.0</td>\n",
       "      <td>0.0</td>\n",
       "      <td>0.0</td>\n",
       "      <td>0.0</td>\n",
       "      <td>0.0</td>\n",
       "      <td>0.0</td>\n",
       "      <td>0.0</td>\n",
       "      <td>0.0</td>\n",
       "    </tr>\n",
       "  </tbody>\n",
       "</table>\n",
       "<p>5 rows × 45 columns</p>\n",
       "</div>"
      ],
      "text/plain": [
       "   store_nbr  onpromotion   cluster  dcoilwtico      year     month       day  \\\n",
       "0  -0.225495    -0.331062 -1.608553    0.548863 -2.011529  2.212358 -0.776607   \n",
       "1  -0.225495     1.247247 -1.608553    0.548863 -2.011529  2.212358 -0.776607   \n",
       "2  -0.225495     0.757427 -1.608553    0.548863 -2.011529  2.212358 -0.776607   \n",
       "3  -0.225495     3.097679 -1.608553    0.548863 -2.011529  2.212358 -0.776607   \n",
       "4  -0.225495     1.192823 -1.608553    0.548863 -2.011529  2.212358 -0.776607   \n",
       "\n",
       "   dayofweek  products_AUTOMOTIVE  products_BEAUTY  ...  state_Guayas  \\\n",
       "0   0.489502                  0.0              0.0  ...           1.0   \n",
       "1   0.489502                  0.0              0.0  ...           1.0   \n",
       "2   0.489502                  0.0              0.0  ...           1.0   \n",
       "3   0.489502                  0.0              0.0  ...           1.0   \n",
       "4   0.489502                  0.0              0.0  ...           1.0   \n",
       "\n",
       "   state_Imbabura  state_Loja  state_Los Rios  state_Manabi  state_Pastaza  \\\n",
       "0             0.0         0.0             0.0           0.0            0.0   \n",
       "1             0.0         0.0             0.0           0.0            0.0   \n",
       "2             0.0         0.0             0.0           0.0            0.0   \n",
       "3             0.0         0.0             0.0           0.0            0.0   \n",
       "4             0.0         0.0             0.0           0.0            0.0   \n",
       "\n",
       "   state_Pichincha  state_Santa Elena  state_Santo Domingo de los Tsachilas  \\\n",
       "0              0.0                0.0                                   0.0   \n",
       "1              0.0                0.0                                   0.0   \n",
       "2              0.0                0.0                                   0.0   \n",
       "3              0.0                0.0                                   0.0   \n",
       "4              0.0                0.0                                   0.0   \n",
       "\n",
       "   state_Tungurahua  \n",
       "0               0.0  \n",
       "1               0.0  \n",
       "2               0.0  \n",
       "3               0.0  \n",
       "4               0.0  \n",
       "\n",
       "[5 rows x 45 columns]"
      ]
     },
     "execution_count": 96,
     "metadata": {},
     "output_type": "execute_result"
    }
   ],
   "source": [
    "X_eval_df.head()"
   ]
  },
  {
   "cell_type": "markdown",
   "id": "5f5f690f",
   "metadata": {},
   "source": [
    "## Machine learning models"
   ]
  },
  {
   "cell_type": "markdown",
   "id": "23affb8f",
   "metadata": {},
   "source": [
    "### Decision Tree Regression Model"
   ]
  },
  {
   "cell_type": "code",
   "execution_count": 97,
   "id": "c1ed7441",
   "metadata": {},
   "outputs": [
    {
     "data": {
      "text/plain": [
       "DecisionTreeRegressor()"
      ]
     },
     "execution_count": 97,
     "metadata": {},
     "output_type": "execute_result"
    }
   ],
   "source": [
    "#fitting decision tree model\n",
    "dt_model=DecisionTreeRegressor()\n",
    "dt_model.fit(X_train_df,y_train)"
   ]
  },
  {
   "cell_type": "code",
   "execution_count": 98,
   "id": "6836ee15",
   "metadata": {},
   "outputs": [],
   "source": [
    "#to measure the this regression model's rmse\n",
    "dt_pred=dt_model.predict(X_eval_df)\n",
    "dt_mse=mean_squared_error(y_eval,dt_pred)\n",
    "dt_rmse= np.sqrt(dt_mse)\n",
    "dt_MAE=mean_absolute_error(y_eval,dt_pred)\n",
    "dt_rmsle = np.sqrt(mean_squared_log_error(y_eval,dt_pred))"
   ]
  },
  {
   "cell_type": "code",
   "execution_count": 99,
   "id": "9e20b78c",
   "metadata": {
    "scrolled": true
   },
   "outputs": [
    {
     "data": {
      "text/html": [
       "<div>\n",
       "<style scoped>\n",
       "    .dataframe tbody tr th:only-of-type {\n",
       "        vertical-align: middle;\n",
       "    }\n",
       "\n",
       "    .dataframe tbody tr th {\n",
       "        vertical-align: top;\n",
       "    }\n",
       "\n",
       "    .dataframe thead th {\n",
       "        text-align: right;\n",
       "    }\n",
       "</style>\n",
       "<table border=\"1\" class=\"dataframe\">\n",
       "  <thead>\n",
       "    <tr style=\"text-align: right;\">\n",
       "      <th></th>\n",
       "      <th>Model</th>\n",
       "      <th>MSE</th>\n",
       "      <th>RMSE</th>\n",
       "      <th>MAE</th>\n",
       "      <th>RMSLE</th>\n",
       "    </tr>\n",
       "  </thead>\n",
       "  <tbody>\n",
       "    <tr>\n",
       "      <th>0</th>\n",
       "      <td>Decision Tree</td>\n",
       "      <td>1.154320e+06</td>\n",
       "      <td>1074.393018</td>\n",
       "      <td>383.672604</td>\n",
       "      <td>1.919324</td>\n",
       "    </tr>\n",
       "  </tbody>\n",
       "</table>\n",
       "</div>"
      ],
      "text/plain": [
       "           Model           MSE         RMSE         MAE     RMSLE\n",
       "0  Decision Tree  1.154320e+06  1074.393018  383.672604  1.919324"
      ]
     },
     "execution_count": 99,
     "metadata": {},
     "output_type": "execute_result"
    }
   ],
   "source": [
    "results=pd.DataFrame([['Decision Tree', dt_mse,dt_rmse,dt_MAE,dt_rmsle]],\n",
    "                     columns = ['Model', 'MSE','RMSE','MAE','RMSLE'])\n",
    "results"
   ]
  },
  {
   "cell_type": "markdown",
   "id": "3fc9f137",
   "metadata": {},
   "source": [
    "## Cleaning Test Data"
   ]
  },
  {
   "cell_type": "code",
   "execution_count": 100,
   "id": "0df4f719",
   "metadata": {},
   "outputs": [
    {
     "data": {
      "text/html": [
       "<div>\n",
       "<style scoped>\n",
       "    .dataframe tbody tr th:only-of-type {\n",
       "        vertical-align: middle;\n",
       "    }\n",
       "\n",
       "    .dataframe tbody tr th {\n",
       "        vertical-align: top;\n",
       "    }\n",
       "\n",
       "    .dataframe thead th {\n",
       "        text-align: right;\n",
       "    }\n",
       "</style>\n",
       "<table border=\"1\" class=\"dataframe\">\n",
       "  <thead>\n",
       "    <tr style=\"text-align: right;\">\n",
       "      <th></th>\n",
       "      <th>id</th>\n",
       "      <th>date</th>\n",
       "      <th>store_nbr</th>\n",
       "      <th>family</th>\n",
       "      <th>onpromotion</th>\n",
       "      <th>type</th>\n",
       "      <th>locale</th>\n",
       "      <th>locale_name</th>\n",
       "      <th>description</th>\n",
       "      <th>transferred</th>\n",
       "    </tr>\n",
       "  </thead>\n",
       "  <tbody>\n",
       "    <tr>\n",
       "      <th>0</th>\n",
       "      <td>3000888</td>\n",
       "      <td>2017-08-16</td>\n",
       "      <td>1</td>\n",
       "      <td>AUTOMOTIVE</td>\n",
       "      <td>0</td>\n",
       "      <td>NaN</td>\n",
       "      <td>NaN</td>\n",
       "      <td>NaN</td>\n",
       "      <td>NaN</td>\n",
       "      <td>NaN</td>\n",
       "    </tr>\n",
       "    <tr>\n",
       "      <th>1</th>\n",
       "      <td>3000889</td>\n",
       "      <td>2017-08-16</td>\n",
       "      <td>1</td>\n",
       "      <td>BABY CARE</td>\n",
       "      <td>0</td>\n",
       "      <td>NaN</td>\n",
       "      <td>NaN</td>\n",
       "      <td>NaN</td>\n",
       "      <td>NaN</td>\n",
       "      <td>NaN</td>\n",
       "    </tr>\n",
       "    <tr>\n",
       "      <th>2</th>\n",
       "      <td>3000890</td>\n",
       "      <td>2017-08-16</td>\n",
       "      <td>1</td>\n",
       "      <td>BEAUTY</td>\n",
       "      <td>2</td>\n",
       "      <td>NaN</td>\n",
       "      <td>NaN</td>\n",
       "      <td>NaN</td>\n",
       "      <td>NaN</td>\n",
       "      <td>NaN</td>\n",
       "    </tr>\n",
       "    <tr>\n",
       "      <th>3</th>\n",
       "      <td>3000891</td>\n",
       "      <td>2017-08-16</td>\n",
       "      <td>1</td>\n",
       "      <td>BEVERAGES</td>\n",
       "      <td>20</td>\n",
       "      <td>NaN</td>\n",
       "      <td>NaN</td>\n",
       "      <td>NaN</td>\n",
       "      <td>NaN</td>\n",
       "      <td>NaN</td>\n",
       "    </tr>\n",
       "    <tr>\n",
       "      <th>4</th>\n",
       "      <td>3000892</td>\n",
       "      <td>2017-08-16</td>\n",
       "      <td>1</td>\n",
       "      <td>BOOKS</td>\n",
       "      <td>0</td>\n",
       "      <td>NaN</td>\n",
       "      <td>NaN</td>\n",
       "      <td>NaN</td>\n",
       "      <td>NaN</td>\n",
       "      <td>NaN</td>\n",
       "    </tr>\n",
       "  </tbody>\n",
       "</table>\n",
       "</div>"
      ],
      "text/plain": [
       "        id       date  store_nbr      family  onpromotion type locale  \\\n",
       "0  3000888 2017-08-16          1  AUTOMOTIVE            0  NaN    NaN   \n",
       "1  3000889 2017-08-16          1   BABY CARE            0  NaN    NaN   \n",
       "2  3000890 2017-08-16          1      BEAUTY            2  NaN    NaN   \n",
       "3  3000891 2017-08-16          1   BEVERAGES           20  NaN    NaN   \n",
       "4  3000892 2017-08-16          1       BOOKS            0  NaN    NaN   \n",
       "\n",
       "  locale_name description transferred  \n",
       "0         NaN         NaN         NaN  \n",
       "1         NaN         NaN         NaN  \n",
       "2         NaN         NaN         NaN  \n",
       "3         NaN         NaN         NaN  \n",
       "4         NaN         NaN         NaN  "
      ]
     },
     "execution_count": 100,
     "metadata": {},
     "output_type": "execute_result"
    }
   ],
   "source": [
    "test_events_df=pd.merge(test_df,events_df,on='date',how='left')\n",
    "test_events_df.head()"
   ]
  },
  {
   "cell_type": "code",
   "execution_count": 101,
   "id": "d315d513",
   "metadata": {},
   "outputs": [
    {
     "data": {
      "text/html": [
       "<div>\n",
       "<style scoped>\n",
       "    .dataframe tbody tr th:only-of-type {\n",
       "        vertical-align: middle;\n",
       "    }\n",
       "\n",
       "    .dataframe tbody tr th {\n",
       "        vertical-align: top;\n",
       "    }\n",
       "\n",
       "    .dataframe thead th {\n",
       "        text-align: right;\n",
       "    }\n",
       "</style>\n",
       "<table border=\"1\" class=\"dataframe\">\n",
       "  <thead>\n",
       "    <tr style=\"text-align: right;\">\n",
       "      <th></th>\n",
       "      <th>id</th>\n",
       "      <th>date</th>\n",
       "      <th>store_nbr</th>\n",
       "      <th>family</th>\n",
       "      <th>onpromotion</th>\n",
       "      <th>type</th>\n",
       "      <th>locale</th>\n",
       "      <th>locale_name</th>\n",
       "      <th>description</th>\n",
       "      <th>transferred</th>\n",
       "      <th>dcoilwtico</th>\n",
       "    </tr>\n",
       "  </thead>\n",
       "  <tbody>\n",
       "    <tr>\n",
       "      <th>0</th>\n",
       "      <td>3000888</td>\n",
       "      <td>2017-08-16</td>\n",
       "      <td>1</td>\n",
       "      <td>AUTOMOTIVE</td>\n",
       "      <td>0</td>\n",
       "      <td>NaN</td>\n",
       "      <td>NaN</td>\n",
       "      <td>NaN</td>\n",
       "      <td>NaN</td>\n",
       "      <td>NaN</td>\n",
       "      <td>46.8</td>\n",
       "    </tr>\n",
       "    <tr>\n",
       "      <th>1</th>\n",
       "      <td>3000889</td>\n",
       "      <td>2017-08-16</td>\n",
       "      <td>1</td>\n",
       "      <td>BABY CARE</td>\n",
       "      <td>0</td>\n",
       "      <td>NaN</td>\n",
       "      <td>NaN</td>\n",
       "      <td>NaN</td>\n",
       "      <td>NaN</td>\n",
       "      <td>NaN</td>\n",
       "      <td>46.8</td>\n",
       "    </tr>\n",
       "    <tr>\n",
       "      <th>2</th>\n",
       "      <td>3000890</td>\n",
       "      <td>2017-08-16</td>\n",
       "      <td>1</td>\n",
       "      <td>BEAUTY</td>\n",
       "      <td>2</td>\n",
       "      <td>NaN</td>\n",
       "      <td>NaN</td>\n",
       "      <td>NaN</td>\n",
       "      <td>NaN</td>\n",
       "      <td>NaN</td>\n",
       "      <td>46.8</td>\n",
       "    </tr>\n",
       "    <tr>\n",
       "      <th>3</th>\n",
       "      <td>3000891</td>\n",
       "      <td>2017-08-16</td>\n",
       "      <td>1</td>\n",
       "      <td>BEVERAGES</td>\n",
       "      <td>20</td>\n",
       "      <td>NaN</td>\n",
       "      <td>NaN</td>\n",
       "      <td>NaN</td>\n",
       "      <td>NaN</td>\n",
       "      <td>NaN</td>\n",
       "      <td>46.8</td>\n",
       "    </tr>\n",
       "    <tr>\n",
       "      <th>4</th>\n",
       "      <td>3000892</td>\n",
       "      <td>2017-08-16</td>\n",
       "      <td>1</td>\n",
       "      <td>BOOKS</td>\n",
       "      <td>0</td>\n",
       "      <td>NaN</td>\n",
       "      <td>NaN</td>\n",
       "      <td>NaN</td>\n",
       "      <td>NaN</td>\n",
       "      <td>NaN</td>\n",
       "      <td>46.8</td>\n",
       "    </tr>\n",
       "  </tbody>\n",
       "</table>\n",
       "</div>"
      ],
      "text/plain": [
       "        id       date  store_nbr      family  onpromotion type locale  \\\n",
       "0  3000888 2017-08-16          1  AUTOMOTIVE            0  NaN    NaN   \n",
       "1  3000889 2017-08-16          1   BABY CARE            0  NaN    NaN   \n",
       "2  3000890 2017-08-16          1      BEAUTY            2  NaN    NaN   \n",
       "3  3000891 2017-08-16          1   BEVERAGES           20  NaN    NaN   \n",
       "4  3000892 2017-08-16          1       BOOKS            0  NaN    NaN   \n",
       "\n",
       "  locale_name description transferred  dcoilwtico  \n",
       "0         NaN         NaN         NaN        46.8  \n",
       "1         NaN         NaN         NaN        46.8  \n",
       "2         NaN         NaN         NaN        46.8  \n",
       "3         NaN         NaN         NaN        46.8  \n",
       "4         NaN         NaN         NaN        46.8  "
      ]
     },
     "execution_count": 101,
     "metadata": {},
     "output_type": "execute_result"
    }
   ],
   "source": [
    "oil_test_events=pd.merge(test_events_df,oil_data,on ='date',how= 'left')\n",
    "oil_test_events.head()"
   ]
  },
  {
   "cell_type": "code",
   "execution_count": 102,
   "id": "a00e2129",
   "metadata": {},
   "outputs": [
    {
     "data": {
      "text/html": [
       "<div>\n",
       "<style scoped>\n",
       "    .dataframe tbody tr th:only-of-type {\n",
       "        vertical-align: middle;\n",
       "    }\n",
       "\n",
       "    .dataframe tbody tr th {\n",
       "        vertical-align: top;\n",
       "    }\n",
       "\n",
       "    .dataframe thead th {\n",
       "        text-align: right;\n",
       "    }\n",
       "</style>\n",
       "<table border=\"1\" class=\"dataframe\">\n",
       "  <thead>\n",
       "    <tr style=\"text-align: right;\">\n",
       "      <th></th>\n",
       "      <th>id</th>\n",
       "      <th>date</th>\n",
       "      <th>store_nbr</th>\n",
       "      <th>family</th>\n",
       "      <th>onpromotion</th>\n",
       "      <th>type_x</th>\n",
       "      <th>locale</th>\n",
       "      <th>locale_name</th>\n",
       "      <th>description</th>\n",
       "      <th>transferred</th>\n",
       "      <th>dcoilwtico</th>\n",
       "      <th>city</th>\n",
       "      <th>state</th>\n",
       "      <th>type_y</th>\n",
       "      <th>cluster</th>\n",
       "    </tr>\n",
       "  </thead>\n",
       "  <tbody>\n",
       "    <tr>\n",
       "      <th>0</th>\n",
       "      <td>3000888</td>\n",
       "      <td>2017-08-16</td>\n",
       "      <td>1</td>\n",
       "      <td>AUTOMOTIVE</td>\n",
       "      <td>0</td>\n",
       "      <td>NaN</td>\n",
       "      <td>NaN</td>\n",
       "      <td>NaN</td>\n",
       "      <td>NaN</td>\n",
       "      <td>NaN</td>\n",
       "      <td>46.8</td>\n",
       "      <td>Quito</td>\n",
       "      <td>Pichincha</td>\n",
       "      <td>D</td>\n",
       "      <td>13</td>\n",
       "    </tr>\n",
       "    <tr>\n",
       "      <th>1</th>\n",
       "      <td>3000889</td>\n",
       "      <td>2017-08-16</td>\n",
       "      <td>1</td>\n",
       "      <td>BABY CARE</td>\n",
       "      <td>0</td>\n",
       "      <td>NaN</td>\n",
       "      <td>NaN</td>\n",
       "      <td>NaN</td>\n",
       "      <td>NaN</td>\n",
       "      <td>NaN</td>\n",
       "      <td>46.8</td>\n",
       "      <td>Quito</td>\n",
       "      <td>Pichincha</td>\n",
       "      <td>D</td>\n",
       "      <td>13</td>\n",
       "    </tr>\n",
       "    <tr>\n",
       "      <th>2</th>\n",
       "      <td>3000890</td>\n",
       "      <td>2017-08-16</td>\n",
       "      <td>1</td>\n",
       "      <td>BEAUTY</td>\n",
       "      <td>2</td>\n",
       "      <td>NaN</td>\n",
       "      <td>NaN</td>\n",
       "      <td>NaN</td>\n",
       "      <td>NaN</td>\n",
       "      <td>NaN</td>\n",
       "      <td>46.8</td>\n",
       "      <td>Quito</td>\n",
       "      <td>Pichincha</td>\n",
       "      <td>D</td>\n",
       "      <td>13</td>\n",
       "    </tr>\n",
       "    <tr>\n",
       "      <th>3</th>\n",
       "      <td>3000891</td>\n",
       "      <td>2017-08-16</td>\n",
       "      <td>1</td>\n",
       "      <td>BEVERAGES</td>\n",
       "      <td>20</td>\n",
       "      <td>NaN</td>\n",
       "      <td>NaN</td>\n",
       "      <td>NaN</td>\n",
       "      <td>NaN</td>\n",
       "      <td>NaN</td>\n",
       "      <td>46.8</td>\n",
       "      <td>Quito</td>\n",
       "      <td>Pichincha</td>\n",
       "      <td>D</td>\n",
       "      <td>13</td>\n",
       "    </tr>\n",
       "    <tr>\n",
       "      <th>4</th>\n",
       "      <td>3000892</td>\n",
       "      <td>2017-08-16</td>\n",
       "      <td>1</td>\n",
       "      <td>BOOKS</td>\n",
       "      <td>0</td>\n",
       "      <td>NaN</td>\n",
       "      <td>NaN</td>\n",
       "      <td>NaN</td>\n",
       "      <td>NaN</td>\n",
       "      <td>NaN</td>\n",
       "      <td>46.8</td>\n",
       "      <td>Quito</td>\n",
       "      <td>Pichincha</td>\n",
       "      <td>D</td>\n",
       "      <td>13</td>\n",
       "    </tr>\n",
       "  </tbody>\n",
       "</table>\n",
       "</div>"
      ],
      "text/plain": [
       "        id       date  store_nbr      family  onpromotion type_x locale  \\\n",
       "0  3000888 2017-08-16          1  AUTOMOTIVE            0    NaN    NaN   \n",
       "1  3000889 2017-08-16          1   BABY CARE            0    NaN    NaN   \n",
       "2  3000890 2017-08-16          1      BEAUTY            2    NaN    NaN   \n",
       "3  3000891 2017-08-16          1   BEVERAGES           20    NaN    NaN   \n",
       "4  3000892 2017-08-16          1       BOOKS            0    NaN    NaN   \n",
       "\n",
       "  locale_name description transferred  dcoilwtico   city      state type_y  \\\n",
       "0         NaN         NaN         NaN        46.8  Quito  Pichincha      D   \n",
       "1         NaN         NaN         NaN        46.8  Quito  Pichincha      D   \n",
       "2         NaN         NaN         NaN        46.8  Quito  Pichincha      D   \n",
       "3         NaN         NaN         NaN        46.8  Quito  Pichincha      D   \n",
       "4         NaN         NaN         NaN        46.8  Quito  Pichincha      D   \n",
       "\n",
       "   cluster  \n",
       "0       13  \n",
       "1       13  \n",
       "2       13  \n",
       "3       13  \n",
       "4       13  "
      ]
     },
     "execution_count": 102,
     "metadata": {},
     "output_type": "execute_result"
    }
   ],
   "source": [
    "merged_test=pd.merge(oil_test_events,store_df,on ='store_nbr',how= 'left')\n",
    "merged_test.head()"
   ]
  },
  {
   "cell_type": "code",
   "execution_count": 103,
   "id": "43c49e0b",
   "metadata": {},
   "outputs": [],
   "source": [
    "merged_test=merged_test.drop(['id','locale','locale_name','description','transferred','city','type_x'],axis=1)"
   ]
  },
  {
   "cell_type": "code",
   "execution_count": 104,
   "id": "06e67225",
   "metadata": {},
   "outputs": [],
   "source": [
    "merged_test.rename(columns={'type_y':'store_type','family':'products'},inplace =True)"
   ]
  },
  {
   "cell_type": "code",
   "execution_count": 105,
   "id": "494b2d46",
   "metadata": {},
   "outputs": [],
   "source": [
    "merged_test=merged_test.set_index(['date'])"
   ]
  },
  {
   "cell_type": "code",
   "execution_count": 106,
   "id": "632f4f96",
   "metadata": {},
   "outputs": [],
   "source": [
    "merged_test['year'] = merged_test.index.year\n",
    "merged_test['month'] =merged_test.index.month\n",
    "merged_test['day']=merged_test.index.day\n",
    "merged_test['dayofweek']=merged_test.index.weekday\n",
    "merged_test['end_month']=merged_test.index.is_month_end"
   ]
  },
  {
   "cell_type": "code",
   "execution_count": 107,
   "id": "733966e1",
   "metadata": {},
   "outputs": [],
   "source": [
    "# categorizing the products\n",
    "food_families = ['BEVERAGES', 'BREAD/BAKERY', 'FROZEN FOODS', 'MEATS', 'PREPARED FOODS', 'DELI','PRODUCE', 'DAIRY','POULTRY','EGGS','SEAFOOD']\n",
    "merged_test['products'] = np.where(merged_test['products'].isin(food_families), 'FOODS', merged_test['products'])\n",
    "home_families = ['HOME AND KITCHEN I', 'HOME AND KITCHEN II', 'HOME APPLIANCES']\n",
    "merged_test['products'] = np.where(merged_test['products'].isin(home_families), 'HOME', merged_test['products'])\n",
    "clothing_families = ['LINGERIE', 'LADYSWARE']\n",
    "merged_test['products'] = np.where(merged_test['products'].isin(clothing_families), 'CLOTHING', merged_test['products'])\n",
    "grocery_families = ['GROCERY I', 'GROCERY II']\n",
    "merged_test['products'] = np.where(merged_test['products'].isin(grocery_families), 'GROCERY', merged_test['products'])\n",
    "stationery_families = ['BOOKS', 'MAGAZINES','SCHOOL AND OFFICE SUPPLIES']\n",
    "merged_test['products'] = np.where(merged_test['products'].isin(stationery_families), 'STATIONERY', merged_test['products'])\n",
    "cleaning_families = ['HOME CARE', 'BABY CARE','PERSONAL CARE']\n",
    "merged_test['products'] = np.where(merged_test['products'].isin(cleaning_families), 'CLEANING', merged_test['products'])\n",
    "hardware_families = ['PLAYERS AND ELECTRONICS','HARDWARE']\n",
    "merged_test['products'] = np.where(merged_test['products'].isin(hardware_families), 'HARDWARE', merged_test['products'])"
   ]
  },
  {
   "cell_type": "code",
   "execution_count": 108,
   "id": "ba4cc5b7",
   "metadata": {},
   "outputs": [],
   "source": [
    "merged_test.reset_index(inplace=True)"
   ]
  },
  {
   "cell_type": "code",
   "execution_count": 109,
   "id": "c7329e17",
   "metadata": {},
   "outputs": [
    {
     "data": {
      "text/plain": [
       "(28512, 13)"
      ]
     },
     "execution_count": 109,
     "metadata": {},
     "output_type": "execute_result"
    }
   ],
   "source": [
    "merged_test.shape"
   ]
  },
  {
   "cell_type": "code",
   "execution_count": 110,
   "id": "cf88c6b1",
   "metadata": {},
   "outputs": [
    {
     "data": {
      "text/html": [
       "<div>\n",
       "<style scoped>\n",
       "    .dataframe tbody tr th:only-of-type {\n",
       "        vertical-align: middle;\n",
       "    }\n",
       "\n",
       "    .dataframe tbody tr th {\n",
       "        vertical-align: top;\n",
       "    }\n",
       "\n",
       "    .dataframe thead th {\n",
       "        text-align: right;\n",
       "    }\n",
       "</style>\n",
       "<table border=\"1\" class=\"dataframe\">\n",
       "  <thead>\n",
       "    <tr style=\"text-align: right;\">\n",
       "      <th></th>\n",
       "      <th>date</th>\n",
       "      <th>store_nbr</th>\n",
       "      <th>products</th>\n",
       "      <th>onpromotion</th>\n",
       "      <th>dcoilwtico</th>\n",
       "      <th>state</th>\n",
       "      <th>store_type</th>\n",
       "      <th>cluster</th>\n",
       "      <th>year</th>\n",
       "      <th>month</th>\n",
       "      <th>day</th>\n",
       "      <th>dayofweek</th>\n",
       "      <th>end_month</th>\n",
       "    </tr>\n",
       "  </thead>\n",
       "  <tbody>\n",
       "    <tr>\n",
       "      <th>0</th>\n",
       "      <td>2017-08-16</td>\n",
       "      <td>1</td>\n",
       "      <td>AUTOMOTIVE</td>\n",
       "      <td>0</td>\n",
       "      <td>46.8</td>\n",
       "      <td>Pichincha</td>\n",
       "      <td>D</td>\n",
       "      <td>13</td>\n",
       "      <td>2017</td>\n",
       "      <td>8</td>\n",
       "      <td>16</td>\n",
       "      <td>2</td>\n",
       "      <td>False</td>\n",
       "    </tr>\n",
       "    <tr>\n",
       "      <th>1</th>\n",
       "      <td>2017-08-16</td>\n",
       "      <td>1</td>\n",
       "      <td>CLEANING</td>\n",
       "      <td>0</td>\n",
       "      <td>46.8</td>\n",
       "      <td>Pichincha</td>\n",
       "      <td>D</td>\n",
       "      <td>13</td>\n",
       "      <td>2017</td>\n",
       "      <td>8</td>\n",
       "      <td>16</td>\n",
       "      <td>2</td>\n",
       "      <td>False</td>\n",
       "    </tr>\n",
       "    <tr>\n",
       "      <th>2</th>\n",
       "      <td>2017-08-16</td>\n",
       "      <td>1</td>\n",
       "      <td>BEAUTY</td>\n",
       "      <td>2</td>\n",
       "      <td>46.8</td>\n",
       "      <td>Pichincha</td>\n",
       "      <td>D</td>\n",
       "      <td>13</td>\n",
       "      <td>2017</td>\n",
       "      <td>8</td>\n",
       "      <td>16</td>\n",
       "      <td>2</td>\n",
       "      <td>False</td>\n",
       "    </tr>\n",
       "    <tr>\n",
       "      <th>3</th>\n",
       "      <td>2017-08-16</td>\n",
       "      <td>1</td>\n",
       "      <td>FOODS</td>\n",
       "      <td>20</td>\n",
       "      <td>46.8</td>\n",
       "      <td>Pichincha</td>\n",
       "      <td>D</td>\n",
       "      <td>13</td>\n",
       "      <td>2017</td>\n",
       "      <td>8</td>\n",
       "      <td>16</td>\n",
       "      <td>2</td>\n",
       "      <td>False</td>\n",
       "    </tr>\n",
       "    <tr>\n",
       "      <th>4</th>\n",
       "      <td>2017-08-16</td>\n",
       "      <td>1</td>\n",
       "      <td>STATIONERY</td>\n",
       "      <td>0</td>\n",
       "      <td>46.8</td>\n",
       "      <td>Pichincha</td>\n",
       "      <td>D</td>\n",
       "      <td>13</td>\n",
       "      <td>2017</td>\n",
       "      <td>8</td>\n",
       "      <td>16</td>\n",
       "      <td>2</td>\n",
       "      <td>False</td>\n",
       "    </tr>\n",
       "  </tbody>\n",
       "</table>\n",
       "</div>"
      ],
      "text/plain": [
       "        date  store_nbr    products  onpromotion  dcoilwtico      state  \\\n",
       "0 2017-08-16          1  AUTOMOTIVE            0        46.8  Pichincha   \n",
       "1 2017-08-16          1    CLEANING            0        46.8  Pichincha   \n",
       "2 2017-08-16          1      BEAUTY            2        46.8  Pichincha   \n",
       "3 2017-08-16          1       FOODS           20        46.8  Pichincha   \n",
       "4 2017-08-16          1  STATIONERY            0        46.8  Pichincha   \n",
       "\n",
       "  store_type  cluster  year  month  day  dayofweek  end_month  \n",
       "0          D       13  2017      8   16          2      False  \n",
       "1          D       13  2017      8   16          2      False  \n",
       "2          D       13  2017      8   16          2      False  \n",
       "3          D       13  2017      8   16          2      False  \n",
       "4          D       13  2017      8   16          2      False  "
      ]
     },
     "execution_count": 110,
     "metadata": {},
     "output_type": "execute_result"
    }
   ],
   "source": [
    "merged_test.head()"
   ]
  },
  {
   "cell_type": "markdown",
   "id": "8c5b1301",
   "metadata": {},
   "source": [
    "## Imputing missing values"
   ]
  },
  {
   "cell_type": "code",
   "execution_count": 111,
   "id": "3192eaa7",
   "metadata": {},
   "outputs": [],
   "source": [
    "X_test_cat = merged_test[categorical_columns].copy()\n",
    "X_test_num = merged_test[numerical_columns].copy()"
   ]
  },
  {
   "cell_type": "code",
   "execution_count": 112,
   "id": "7c620341",
   "metadata": {},
   "outputs": [],
   "source": [
    "# fitting imputer\n",
    "X_test_cat_imputed = categorical_imputer.fit_transform(X_test_cat)\n",
    "X_test_num_imputed = numerical_imputer.fit_transform(X_test_num)"
   ]
  },
  {
   "cell_type": "markdown",
   "id": "2667a0bd",
   "metadata": {},
   "source": [
    "### Feature Encoding"
   ]
  },
  {
   "cell_type": "code",
   "execution_count": 113,
   "id": "ab03b6bd",
   "metadata": {},
   "outputs": [],
   "source": [
    "# encoding the xtrain categories and converting to a dataframe\n",
    "X_test_cat_encoded = encoder.fit(X_test_cat_imputed)\n",
    "X_test_cat_encoded = pd.DataFrame(encoder.transform(X_test_cat_imputed).toarray(),\n",
    "                                   columns=encoder.get_feature_names(categorical_columns))"
   ]
  },
  {
   "cell_type": "markdown",
   "id": "43bb31a5",
   "metadata": {},
   "source": [
    "## Data scalling"
   ]
  },
  {
   "cell_type": "code",
   "execution_count": 114,
   "id": "d51d1346",
   "metadata": {},
   "outputs": [],
   "source": [
    "X_test_num_scaled = scaler.fit_transform(X_test_num_imputed)\n",
    "X_test_num_sc = pd.DataFrame(X_test_num_scaled, columns = numerical_columns)"
   ]
  },
  {
   "cell_type": "markdown",
   "id": "45be24bf",
   "metadata": {},
   "source": [
    "## Combining xtest cat and xtest num"
   ]
  },
  {
   "cell_type": "code",
   "execution_count": 115,
   "id": "1363e1d7",
   "metadata": {},
   "outputs": [],
   "source": [
    "X_test_df = pd.concat([X_test_num_sc,X_test_cat_encoded], axis =1)"
   ]
  },
  {
   "cell_type": "code",
   "execution_count": 116,
   "id": "2e0d6692",
   "metadata": {},
   "outputs": [
    {
     "data": {
      "text/html": [
       "<div>\n",
       "<style scoped>\n",
       "    .dataframe tbody tr th:only-of-type {\n",
       "        vertical-align: middle;\n",
       "    }\n",
       "\n",
       "    .dataframe tbody tr th {\n",
       "        vertical-align: top;\n",
       "    }\n",
       "\n",
       "    .dataframe thead th {\n",
       "        text-align: right;\n",
       "    }\n",
       "</style>\n",
       "<table border=\"1\" class=\"dataframe\">\n",
       "  <thead>\n",
       "    <tr style=\"text-align: right;\">\n",
       "      <th></th>\n",
       "      <th>store_nbr</th>\n",
       "      <th>onpromotion</th>\n",
       "      <th>cluster</th>\n",
       "      <th>dcoilwtico</th>\n",
       "      <th>year</th>\n",
       "      <th>month</th>\n",
       "      <th>day</th>\n",
       "      <th>dayofweek</th>\n",
       "      <th>products_AUTOMOTIVE</th>\n",
       "      <th>products_BEAUTY</th>\n",
       "      <th>...</th>\n",
       "      <th>state_Guayas</th>\n",
       "      <th>state_Imbabura</th>\n",
       "      <th>state_Loja</th>\n",
       "      <th>state_Los Rios</th>\n",
       "      <th>state_Manabi</th>\n",
       "      <th>state_Pastaza</th>\n",
       "      <th>state_Pichincha</th>\n",
       "      <th>state_Santa Elena</th>\n",
       "      <th>state_Santo Domingo de los Tsachilas</th>\n",
       "      <th>state_Tungurahua</th>\n",
       "    </tr>\n",
       "  </thead>\n",
       "  <tbody>\n",
       "    <tr>\n",
       "      <th>0</th>\n",
       "      <td>-1.700267</td>\n",
       "      <td>-0.336759</td>\n",
       "      <td>0.97178</td>\n",
       "      <td>-0.685361</td>\n",
       "      <td>0.0</td>\n",
       "      <td>0.0</td>\n",
       "      <td>-1.626978</td>\n",
       "      <td>-0.496972</td>\n",
       "      <td>1.0</td>\n",
       "      <td>0.0</td>\n",
       "      <td>...</td>\n",
       "      <td>0.0</td>\n",
       "      <td>0.0</td>\n",
       "      <td>0.0</td>\n",
       "      <td>0.0</td>\n",
       "      <td>0.0</td>\n",
       "      <td>0.0</td>\n",
       "      <td>1.0</td>\n",
       "      <td>0.0</td>\n",
       "      <td>0.0</td>\n",
       "      <td>0.0</td>\n",
       "    </tr>\n",
       "    <tr>\n",
       "      <th>1</th>\n",
       "      <td>-1.700267</td>\n",
       "      <td>-0.336759</td>\n",
       "      <td>0.97178</td>\n",
       "      <td>-0.685361</td>\n",
       "      <td>0.0</td>\n",
       "      <td>0.0</td>\n",
       "      <td>-1.626978</td>\n",
       "      <td>-0.496972</td>\n",
       "      <td>0.0</td>\n",
       "      <td>0.0</td>\n",
       "      <td>...</td>\n",
       "      <td>0.0</td>\n",
       "      <td>0.0</td>\n",
       "      <td>0.0</td>\n",
       "      <td>0.0</td>\n",
       "      <td>0.0</td>\n",
       "      <td>0.0</td>\n",
       "      <td>1.0</td>\n",
       "      <td>0.0</td>\n",
       "      <td>0.0</td>\n",
       "      <td>0.0</td>\n",
       "    </tr>\n",
       "    <tr>\n",
       "      <th>2</th>\n",
       "      <td>-1.700267</td>\n",
       "      <td>-0.240064</td>\n",
       "      <td>0.97178</td>\n",
       "      <td>-0.685361</td>\n",
       "      <td>0.0</td>\n",
       "      <td>0.0</td>\n",
       "      <td>-1.626978</td>\n",
       "      <td>-0.496972</td>\n",
       "      <td>0.0</td>\n",
       "      <td>1.0</td>\n",
       "      <td>...</td>\n",
       "      <td>0.0</td>\n",
       "      <td>0.0</td>\n",
       "      <td>0.0</td>\n",
       "      <td>0.0</td>\n",
       "      <td>0.0</td>\n",
       "      <td>0.0</td>\n",
       "      <td>1.0</td>\n",
       "      <td>0.0</td>\n",
       "      <td>0.0</td>\n",
       "      <td>0.0</td>\n",
       "    </tr>\n",
       "    <tr>\n",
       "      <th>3</th>\n",
       "      <td>-1.700267</td>\n",
       "      <td>0.630191</td>\n",
       "      <td>0.97178</td>\n",
       "      <td>-0.685361</td>\n",
       "      <td>0.0</td>\n",
       "      <td>0.0</td>\n",
       "      <td>-1.626978</td>\n",
       "      <td>-0.496972</td>\n",
       "      <td>0.0</td>\n",
       "      <td>0.0</td>\n",
       "      <td>...</td>\n",
       "      <td>0.0</td>\n",
       "      <td>0.0</td>\n",
       "      <td>0.0</td>\n",
       "      <td>0.0</td>\n",
       "      <td>0.0</td>\n",
       "      <td>0.0</td>\n",
       "      <td>1.0</td>\n",
       "      <td>0.0</td>\n",
       "      <td>0.0</td>\n",
       "      <td>0.0</td>\n",
       "    </tr>\n",
       "    <tr>\n",
       "      <th>4</th>\n",
       "      <td>-1.700267</td>\n",
       "      <td>-0.336759</td>\n",
       "      <td>0.97178</td>\n",
       "      <td>-0.685361</td>\n",
       "      <td>0.0</td>\n",
       "      <td>0.0</td>\n",
       "      <td>-1.626978</td>\n",
       "      <td>-0.496972</td>\n",
       "      <td>0.0</td>\n",
       "      <td>0.0</td>\n",
       "      <td>...</td>\n",
       "      <td>0.0</td>\n",
       "      <td>0.0</td>\n",
       "      <td>0.0</td>\n",
       "      <td>0.0</td>\n",
       "      <td>0.0</td>\n",
       "      <td>0.0</td>\n",
       "      <td>1.0</td>\n",
       "      <td>0.0</td>\n",
       "      <td>0.0</td>\n",
       "      <td>0.0</td>\n",
       "    </tr>\n",
       "  </tbody>\n",
       "</table>\n",
       "<p>5 rows × 45 columns</p>\n",
       "</div>"
      ],
      "text/plain": [
       "   store_nbr  onpromotion  cluster  dcoilwtico  year  month       day  \\\n",
       "0  -1.700267    -0.336759  0.97178   -0.685361   0.0    0.0 -1.626978   \n",
       "1  -1.700267    -0.336759  0.97178   -0.685361   0.0    0.0 -1.626978   \n",
       "2  -1.700267    -0.240064  0.97178   -0.685361   0.0    0.0 -1.626978   \n",
       "3  -1.700267     0.630191  0.97178   -0.685361   0.0    0.0 -1.626978   \n",
       "4  -1.700267    -0.336759  0.97178   -0.685361   0.0    0.0 -1.626978   \n",
       "\n",
       "   dayofweek  products_AUTOMOTIVE  products_BEAUTY  ...  state_Guayas  \\\n",
       "0  -0.496972                  1.0              0.0  ...           0.0   \n",
       "1  -0.496972                  0.0              0.0  ...           0.0   \n",
       "2  -0.496972                  0.0              1.0  ...           0.0   \n",
       "3  -0.496972                  0.0              0.0  ...           0.0   \n",
       "4  -0.496972                  0.0              0.0  ...           0.0   \n",
       "\n",
       "   state_Imbabura  state_Loja  state_Los Rios  state_Manabi  state_Pastaza  \\\n",
       "0             0.0         0.0             0.0           0.0            0.0   \n",
       "1             0.0         0.0             0.0           0.0            0.0   \n",
       "2             0.0         0.0             0.0           0.0            0.0   \n",
       "3             0.0         0.0             0.0           0.0            0.0   \n",
       "4             0.0         0.0             0.0           0.0            0.0   \n",
       "\n",
       "   state_Pichincha  state_Santa Elena  state_Santo Domingo de los Tsachilas  \\\n",
       "0              1.0                0.0                                   0.0   \n",
       "1              1.0                0.0                                   0.0   \n",
       "2              1.0                0.0                                   0.0   \n",
       "3              1.0                0.0                                   0.0   \n",
       "4              1.0                0.0                                   0.0   \n",
       "\n",
       "   state_Tungurahua  \n",
       "0               0.0  \n",
       "1               0.0  \n",
       "2               0.0  \n",
       "3               0.0  \n",
       "4               0.0  \n",
       "\n",
       "[5 rows x 45 columns]"
      ]
     },
     "execution_count": 116,
     "metadata": {},
     "output_type": "execute_result"
    }
   ],
   "source": [
    "X_test_df.head()"
   ]
  },
  {
   "cell_type": "markdown",
   "id": "c4893347",
   "metadata": {},
   "source": [
    "## Making predictions with unseen data"
   ]
  },
  {
   "cell_type": "code",
   "execution_count": 117,
   "id": "3f4f00f9",
   "metadata": {},
   "outputs": [],
   "source": [
    "dtree_predictions=dt_model.predict(X_test_df)"
   ]
  },
  {
   "cell_type": "code",
   "execution_count": 118,
   "id": "a5ad3567",
   "metadata": {},
   "outputs": [],
   "source": [
    "X_test_df['sales'] = dtree_predictions"
   ]
  },
  {
   "cell_type": "code",
   "execution_count": 119,
   "id": "b3e93758",
   "metadata": {},
   "outputs": [],
   "source": [
    "X_test_df['sales'].to_csv('submission.csv', index=False)"
   ]
  },
  {
   "cell_type": "markdown",
   "id": "2aac6cf6",
   "metadata": {},
   "source": [
    "## Exporting Key Componets"
   ]
  },
  {
   "cell_type": "code",
   "execution_count": 120,
   "id": "93fe0522",
   "metadata": {},
   "outputs": [],
   "source": [
    "if not os.path.exists(\"export\"):\n",
    "    os.makedirs(\"export\")"
   ]
  },
  {
   "cell_type": "code",
   "execution_count": 121,
   "id": "e50ae4bf",
   "metadata": {},
   "outputs": [],
   "source": [
    "# set the destination path to the \"export\" directory\n",
    "destination = os.path.join(\".\", \"export\")   "
   ]
  },
  {
   "cell_type": "code",
   "execution_count": 122,
   "id": "db658497",
   "metadata": {},
   "outputs": [],
   "source": [
    "components = {\n",
    "    \"num_imputer\":numerical_imputer,\n",
    "    \"cat_imputer\": categorical_imputer,\n",
    "    \"encoder\": encoder,\n",
    "    \"scaler\": scaler,\n",
    "    \"models\": dt_model \n",
    "}"
   ]
  },
  {
   "cell_type": "code",
   "execution_count": 123,
   "id": "ee83bf81",
   "metadata": {},
   "outputs": [],
   "source": [
    "# Export the KNN model\n",
    "with open(os.path.join(destination, \"dt_model.pkl\"), \"wb\") as f:\n",
    "    pickle.dump(components, f)"
   ]
  },
  {
   "cell_type": "code",
   "execution_count": 124,
   "id": "dfbfd750",
   "metadata": {},
   "outputs": [],
   "source": [
    "!pip list --format=freeze >requirements.txt"
   ]
  },
  {
   "cell_type": "code",
   "execution_count": null,
   "id": "c5496276",
   "metadata": {},
   "outputs": [],
   "source": []
  }
 ],
 "metadata": {
  "kernelspec": {
   "display_name": "Python 3 (ipykernel)",
   "language": "python",
   "name": "python3"
  },
  "language_info": {
   "codemirror_mode": {
    "name": "ipython",
    "version": 3
   },
   "file_extension": ".py",
   "mimetype": "text/x-python",
   "name": "python",
   "nbconvert_exporter": "python",
   "pygments_lexer": "ipython3",
   "version": "3.9.13"
  }
 },
 "nbformat": 4,
 "nbformat_minor": 5
}
